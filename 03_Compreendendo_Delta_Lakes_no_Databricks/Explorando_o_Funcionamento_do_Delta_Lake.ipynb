{
 "cells": [
  {
   "cell_type": "code",
   "execution_count": 0,
   "metadata": {
    "application/vnd.databricks.v1+cell": {
     "cellMetadata": {
      "byteLimit": 2048000,
      "implicitDf": true,
      "rowLimit": 10000
     },
     "inputWidgets": {},
     "nuid": "2b049934-6b35-4227-9053-446cb7fe7ab6",
     "showTitle": false,
     "tableResultSettingsMap": {},
     "title": ""
    }
   },
   "outputs": [
    {
     "output_type": "display_data",
     "data": {
      "text/html": [
       "<style scoped>\n",
       "  .table-result-container {\n",
       "    max-height: 300px;\n",
       "    overflow: auto;\n",
       "  }\n",
       "  table, th, td {\n",
       "    border: 1px solid black;\n",
       "    border-collapse: collapse;\n",
       "  }\n",
       "  th, td {\n",
       "    padding: 5px;\n",
       "  }\n",
       "  th {\n",
       "    text-align: left;\n",
       "  }\n",
       "</style><div class='table-result-container'><table class='table-result'><thead style='background-color: white'><tr></tr></thead><tbody></tbody></table></div>"
      ]
     },
     "metadata": {
      "application/vnd.databricks.v1+output": {
       "addedWidgets": {},
       "aggData": [],
       "aggError": "",
       "aggOverflow": false,
       "aggSchema": [],
       "aggSeriesLimitReached": false,
       "aggType": "",
       "arguments": {},
       "columnCustomDisplayInfos": {},
       "data": [],
       "datasetInfos": [],
       "dbfsResultPath": null,
       "isJsonSchema": true,
       "metadata": {
        "dataframeName": null
       },
       "overflow": false,
       "plotOptions": {
        "customPlotOptions": {},
        "displayType": "table",
        "pivotAggregation": null,
        "pivotColumns": null,
        "xColumns": null,
        "yColumns": null
       },
       "removedWidgets": [],
       "schema": [],
       "type": "table"
      }
     },
     "output_type": "display_data"
    }
   ],
   "source": [
    "%sql\n",
    "CREATE TABLE client(\n",
    "  id INTEGER, \n",
    "  nome STRING, \n",
    "  email STRING\n",
    ")"
   ]
  },
  {
   "cell_type": "code",
   "execution_count": 0,
   "metadata": {
    "application/vnd.databricks.v1+cell": {
     "cellMetadata": {
      "byteLimit": 2048000,
      "implicitDf": true,
      "rowLimit": 10000
     },
     "inputWidgets": {},
     "nuid": "4bbb38a5-e73c-491f-b3eb-95a43dd3cf5a",
     "showTitle": false,
     "tableResultSettingsMap": {},
     "title": ""
    }
   },
   "outputs": [
    {
     "output_type": "display_data",
     "data": {
      "text/html": [
       "<style scoped>\n",
       "  .table-result-container {\n",
       "    max-height: 300px;\n",
       "    overflow: auto;\n",
       "  }\n",
       "  table, th, td {\n",
       "    border: 1px solid black;\n",
       "    border-collapse: collapse;\n",
       "  }\n",
       "  th, td {\n",
       "    padding: 5px;\n",
       "  }\n",
       "  th {\n",
       "    text-align: left;\n",
       "  }\n",
       "</style><div class='table-result-container'><table class='table-result'><thead style='background-color: white'><tr><th>num_affected_rows</th><th>num_inserted_rows</th></tr></thead><tbody><tr><td>5</td><td>5</td></tr></tbody></table></div>"
      ]
     },
     "metadata": {
      "application/vnd.databricks.v1+output": {
       "addedWidgets": {},
       "aggData": [],
       "aggError": "",
       "aggOverflow": false,
       "aggSchema": [],
       "aggSeriesLimitReached": false,
       "aggType": "",
       "arguments": {},
       "columnCustomDisplayInfos": {},
       "data": [
        [
         5,
         5
        ]
       ],
       "datasetInfos": [],
       "dbfsResultPath": null,
       "isJsonSchema": true,
       "metadata": {
        "createTempViewForImplicitDf": true,
        "dataframeName": "_sqldf",
        "executionCount": 1
       },
       "overflow": false,
       "plotOptions": {
        "customPlotOptions": {},
        "displayType": "table",
        "pivotAggregation": null,
        "pivotColumns": null,
        "xColumns": null,
        "yColumns": null
       },
       "removedWidgets": [],
       "schema": [
        {
         "metadata": "{}",
         "name": "num_affected_rows",
         "type": "\"long\""
        },
        {
         "metadata": "{}",
         "name": "num_inserted_rows",
         "type": "\"long\""
        }
       ],
       "type": "table"
      }
     },
     "output_type": "display_data"
    }
   ],
   "source": [
    "%sql\n",
    "INSERT INTO client\n",
    "VALUES \n",
    "(1, \"Adam\", \"adam@example.com\"),\n",
    "(2, \"Sarah\", \"sarah@email.com\"),\n",
    "(3, \"Carlos\", \"crl@hotmail.com\"),\n",
    "(4, \"Fernando\", \"nando@example.org\"),\n",
    "(5, \"Paulo\", \"paulo@example.com\")"
   ]
  },
  {
   "cell_type": "code",
   "execution_count": 0,
   "metadata": {
    "application/vnd.databricks.v1+cell": {
     "cellMetadata": {
      "byteLimit": 2048000,
      "implicitDf": true,
      "rowLimit": 10000
     },
     "inputWidgets": {},
     "nuid": "d25db18a-65aa-479c-9a38-38a8570d0436",
     "showTitle": false,
     "tableResultSettingsMap": {},
     "title": ""
    }
   },
   "outputs": [
    {
     "output_type": "display_data",
     "data": {
      "text/html": [
       "<style scoped>\n",
       "  .table-result-container {\n",
       "    max-height: 300px;\n",
       "    overflow: auto;\n",
       "  }\n",
       "  table, th, td {\n",
       "    border: 1px solid black;\n",
       "    border-collapse: collapse;\n",
       "  }\n",
       "  th, td {\n",
       "    padding: 5px;\n",
       "  }\n",
       "  th {\n",
       "    text-align: left;\n",
       "  }\n",
       "</style><div class='table-result-container'><table class='table-result'><thead style='background-color: white'><tr><th>id</th><th>nome</th><th>email</th></tr></thead><tbody><tr><td>1</td><td>Adam</td><td>adam@example.com</td></tr><tr><td>2</td><td>Sarah</td><td>sarah@email.com</td></tr><tr><td>3</td><td>Carlos</td><td>crl@hotmail.com</td></tr><tr><td>4</td><td>Fernando</td><td>nando@example.org</td></tr><tr><td>5</td><td>Paulo</td><td>paulo@example.com</td></tr></tbody></table></div>"
      ]
     },
     "metadata": {
      "application/vnd.databricks.v1+output": {
       "addedWidgets": {},
       "aggData": [],
       "aggError": "",
       "aggOverflow": false,
       "aggSchema": [],
       "aggSeriesLimitReached": false,
       "aggType": "",
       "arguments": {},
       "columnCustomDisplayInfos": {},
       "data": [
        [
         1,
         "Adam",
         "adam@example.com"
        ],
        [
         2,
         "Sarah",
         "sarah@email.com"
        ],
        [
         3,
         "Carlos",
         "crl@hotmail.com"
        ],
        [
         4,
         "Fernando",
         "nando@example.org"
        ],
        [
         5,
         "Paulo",
         "paulo@example.com"
        ]
       ],
       "datasetInfos": [],
       "dbfsResultPath": null,
       "isJsonSchema": true,
       "metadata": {
        "createTempViewForImplicitDf": true,
        "dataframeName": "_sqldf",
        "executionCount": 2
       },
       "overflow": false,
       "plotOptions": {
        "customPlotOptions": {},
        "displayType": "table",
        "pivotAggregation": null,
        "pivotColumns": null,
        "xColumns": null,
        "yColumns": null
       },
       "removedWidgets": [],
       "schema": [
        {
         "metadata": "{}",
         "name": "id",
         "type": "\"integer\""
        },
        {
         "metadata": "{}",
         "name": "nome",
         "type": "\"string\""
        },
        {
         "metadata": "{}",
         "name": "email",
         "type": "\"string\""
        }
       ],
       "type": "table"
      }
     },
     "output_type": "display_data"
    }
   ],
   "source": [
    "%sql\n",
    "SELECT * FROM client"
   ]
  },
  {
   "cell_type": "code",
   "execution_count": 0,
   "metadata": {
    "application/vnd.databricks.v1+cell": {
     "cellMetadata": {
      "byteLimit": 2048000,
      "implicitDf": true,
      "rowLimit": 10000
     },
     "inputWidgets": {},
     "nuid": "a75af5e0-b541-4072-882c-6634ed5e9f85",
     "showTitle": false,
     "tableResultSettingsMap": {},
     "title": ""
    }
   },
   "outputs": [
    {
     "output_type": "display_data",
     "data": {
      "text/html": [
       "<style scoped>\n",
       "  .table-result-container {\n",
       "    max-height: 300px;\n",
       "    overflow: auto;\n",
       "  }\n",
       "  table, th, td {\n",
       "    border: 1px solid black;\n",
       "    border-collapse: collapse;\n",
       "  }\n",
       "  th, td {\n",
       "    padding: 5px;\n",
       "  }\n",
       "  th {\n",
       "    text-align: left;\n",
       "  }\n",
       "</style><div class='table-result-container'><table class='table-result'><thead style='background-color: white'><tr><th>format</th><th>id</th><th>name</th><th>description</th><th>location</th><th>createdAt</th><th>lastModified</th><th>partitionColumns</th><th>clusteringColumns</th><th>numFiles</th><th>sizeInBytes</th><th>properties</th><th>minReaderVersion</th><th>minWriterVersion</th><th>tableFeatures</th><th>statistics</th></tr></thead><tbody><tr><td>delta</td><td>67ceea2f-ce76-4487-9423-553dd919fa2f</td><td>spark_catalog.default.client</td><td>null</td><td>dbfs:/user/hive/warehouse/client</td><td>2025-06-14T13:30:03.531Z</td><td>2025-06-14T13:32:01Z</td><td>List()</td><td>List()</td><td>1</td><td>1257</td><td>Map()</td><td>1</td><td>2</td><td>List(appendOnly, invariants)</td><td>Map()</td></tr></tbody></table></div>"
      ]
     },
     "metadata": {
      "application/vnd.databricks.v1+output": {
       "addedWidgets": {},
       "aggData": [],
       "aggError": "",
       "aggOverflow": false,
       "aggSchema": [],
       "aggSeriesLimitReached": false,
       "aggType": "",
       "arguments": {},
       "columnCustomDisplayInfos": {},
       "data": [
        [
         "delta",
         "67ceea2f-ce76-4487-9423-553dd919fa2f",
         "spark_catalog.default.client",
         null,
         "dbfs:/user/hive/warehouse/client",
         "2025-06-14T13:30:03.531Z",
         "2025-06-14T13:32:01Z",
         [],
         [],
         1,
         1257,
         {},
         1,
         2,
         [
          "appendOnly",
          "invariants"
         ],
         {}
        ]
       ],
       "datasetInfos": [],
       "dbfsResultPath": null,
       "isJsonSchema": true,
       "metadata": {
        "createTempViewForImplicitDf": true,
        "dataframeName": "_sqldf",
        "executionCount": 3
       },
       "overflow": false,
       "plotOptions": {
        "customPlotOptions": {},
        "displayType": "table",
        "pivotAggregation": null,
        "pivotColumns": null,
        "xColumns": null,
        "yColumns": null
       },
       "removedWidgets": [],
       "schema": [
        {
         "metadata": "{}",
         "name": "format",
         "type": "\"string\""
        },
        {
         "metadata": "{}",
         "name": "id",
         "type": "\"string\""
        },
        {
         "metadata": "{}",
         "name": "name",
         "type": "\"string\""
        },
        {
         "metadata": "{}",
         "name": "description",
         "type": "\"string\""
        },
        {
         "metadata": "{}",
         "name": "location",
         "type": "\"string\""
        },
        {
         "metadata": "{}",
         "name": "createdAt",
         "type": "\"timestamp\""
        },
        {
         "metadata": "{}",
         "name": "lastModified",
         "type": "\"timestamp\""
        },
        {
         "metadata": "{}",
         "name": "partitionColumns",
         "type": "{\"type\":\"array\",\"elementType\":\"string\",\"containsNull\":true}"
        },
        {
         "metadata": "{}",
         "name": "clusteringColumns",
         "type": "{\"type\":\"array\",\"elementType\":\"string\",\"containsNull\":true}"
        },
        {
         "metadata": "{}",
         "name": "numFiles",
         "type": "\"long\""
        },
        {
         "metadata": "{}",
         "name": "sizeInBytes",
         "type": "\"long\""
        },
        {
         "metadata": "{}",
         "name": "properties",
         "type": "{\"type\":\"map\",\"keyType\":\"string\",\"valueType\":\"string\",\"valueContainsNull\":true}"
        },
        {
         "metadata": "{}",
         "name": "minReaderVersion",
         "type": "\"integer\""
        },
        {
         "metadata": "{}",
         "name": "minWriterVersion",
         "type": "\"integer\""
        },
        {
         "metadata": "{}",
         "name": "tableFeatures",
         "type": "{\"type\":\"array\",\"elementType\":\"string\",\"containsNull\":true}"
        },
        {
         "metadata": "{}",
         "name": "statistics",
         "type": "{\"type\":\"map\",\"keyType\":\"string\",\"valueType\":\"long\",\"valueContainsNull\":true}"
        }
       ],
       "type": "table"
      }
     },
     "output_type": "display_data"
    }
   ],
   "source": [
    "%sql\n",
    "DESCRIBE DETAIL client"
   ]
  },
  {
   "cell_type": "code",
   "execution_count": 0,
   "metadata": {
    "application/vnd.databricks.v1+cell": {
     "cellMetadata": {
      "byteLimit": 2048000,
      "rowLimit": 10000
     },
     "inputWidgets": {},
     "nuid": "dcce1fa7-fc8a-420f-a969-786905033473",
     "showTitle": false,
     "tableResultSettingsMap": {},
     "title": ""
    }
   },
   "outputs": [
    {
     "output_type": "display_data",
     "data": {
      "text/html": [
       "<style scoped>\n",
       "  .table-result-container {\n",
       "    max-height: 300px;\n",
       "    overflow: auto;\n",
       "  }\n",
       "  table, th, td {\n",
       "    border: 1px solid black;\n",
       "    border-collapse: collapse;\n",
       "  }\n",
       "  th, td {\n",
       "    padding: 5px;\n",
       "  }\n",
       "  th {\n",
       "    text-align: left;\n",
       "  }\n",
       "</style><div class='table-result-container'><table class='table-result'><thead style='background-color: white'><tr><th>path</th><th>name</th><th>size</th><th>modificationTime</th></tr></thead><tbody><tr><td>dbfs:/user/hive/warehouse/client/_delta_log/</td><td>_delta_log/</td><td>0</td><td>0</td></tr><tr><td>dbfs:/user/hive/warehouse/client/part-00000-7068a226-f8c5-43b6-86e1-4d8506f42476-c000.snappy.parquet</td><td>part-00000-7068a226-f8c5-43b6-86e1-4d8506f42476-c000.snappy.parquet</td><td>1257</td><td>1749907920000</td></tr></tbody></table></div>"
      ]
     },
     "metadata": {
      "application/vnd.databricks.v1+output": {
       "addedWidgets": {},
       "aggData": [],
       "aggError": "",
       "aggOverflow": false,
       "aggSchema": [],
       "aggSeriesLimitReached": false,
       "aggType": "",
       "arguments": {},
       "columnCustomDisplayInfos": {},
       "data": [
        [
         "dbfs:/user/hive/warehouse/client/_delta_log/",
         "_delta_log/",
         0,
         0
        ],
        [
         "dbfs:/user/hive/warehouse/client/part-00000-7068a226-f8c5-43b6-86e1-4d8506f42476-c000.snappy.parquet",
         "part-00000-7068a226-f8c5-43b6-86e1-4d8506f42476-c000.snappy.parquet",
         1257,
         1749907920000
        ]
       ],
       "datasetInfos": [],
       "dbfsResultPath": null,
       "isJsonSchema": true,
       "metadata": {
        "isDbfsCommandResult": false
       },
       "overflow": false,
       "plotOptions": {
        "customPlotOptions": {},
        "displayType": "table",
        "pivotAggregation": null,
        "pivotColumns": null,
        "xColumns": null,
        "yColumns": null
       },
       "removedWidgets": [],
       "schema": [
        {
         "metadata": "{}",
         "name": "path",
         "type": "\"string\""
        },
        {
         "metadata": "{}",
         "name": "name",
         "type": "\"string\""
        },
        {
         "metadata": "{}",
         "name": "size",
         "type": "\"long\""
        },
        {
         "metadata": "{}",
         "name": "modificationTime",
         "type": "\"long\""
        }
       ],
       "type": "table"
      }
     },
     "output_type": "display_data"
    }
   ],
   "source": [
    "%fs ls \"dbfs:/user/hive/warehouse/client\""
   ]
  },
  {
   "cell_type": "code",
   "execution_count": 0,
   "metadata": {
    "application/vnd.databricks.v1+cell": {
     "cellMetadata": {
      "byteLimit": 2048000,
      "rowLimit": 10000
     },
     "inputWidgets": {},
     "nuid": "5beb753d-fc15-409d-9872-c0f687df368f",
     "showTitle": false,
     "tableResultSettingsMap": {},
     "title": ""
    }
   },
   "outputs": [
    {
     "output_type": "display_data",
     "data": {
      "text/html": [
       "<style scoped>\n",
       "  .table-result-container {\n",
       "    max-height: 300px;\n",
       "    overflow: auto;\n",
       "  }\n",
       "  table, th, td {\n",
       "    border: 1px solid black;\n",
       "    border-collapse: collapse;\n",
       "  }\n",
       "  th, td {\n",
       "    padding: 5px;\n",
       "  }\n",
       "  th {\n",
       "    text-align: left;\n",
       "  }\n",
       "</style><div class='table-result-container'><table class='table-result'><thead style='background-color: white'><tr><th>path</th><th>name</th><th>size</th><th>modificationTime</th></tr></thead><tbody><tr><td>dbfs:/user/hive/warehouse/client/_delta_log/00000000000000000000.crc</td><td>00000000000000000000.crc</td><td>2047</td><td>1749907821000</td></tr><tr><td>dbfs:/user/hive/warehouse/client/_delta_log/00000000000000000000.json</td><td>00000000000000000000.json</td><td>1070</td><td>1749907805000</td></tr><tr><td>dbfs:/user/hive/warehouse/client/_delta_log/00000000000000000001.crc</td><td>00000000000000000001.crc</td><td>2601</td><td>1749907926000</td></tr><tr><td>dbfs:/user/hive/warehouse/client/_delta_log/00000000000000000001.json</td><td>00000000000000000001.json</td><td>1154</td><td>1749907921000</td></tr><tr><td>dbfs:/user/hive/warehouse/client/_delta_log/_commits/</td><td>_commits/</td><td>0</td><td>0</td></tr></tbody></table></div>"
      ]
     },
     "metadata": {
      "application/vnd.databricks.v1+output": {
       "addedWidgets": {},
       "aggData": [],
       "aggError": "",
       "aggOverflow": false,
       "aggSchema": [],
       "aggSeriesLimitReached": false,
       "aggType": "",
       "arguments": {},
       "columnCustomDisplayInfos": {},
       "data": [
        [
         "dbfs:/user/hive/warehouse/client/_delta_log/00000000000000000000.crc",
         "00000000000000000000.crc",
         2047,
         1749907821000
        ],
        [
         "dbfs:/user/hive/warehouse/client/_delta_log/00000000000000000000.json",
         "00000000000000000000.json",
         1070,
         1749907805000
        ],
        [
         "dbfs:/user/hive/warehouse/client/_delta_log/00000000000000000001.crc",
         "00000000000000000001.crc",
         2601,
         1749907926000
        ],
        [
         "dbfs:/user/hive/warehouse/client/_delta_log/00000000000000000001.json",
         "00000000000000000001.json",
         1154,
         1749907921000
        ],
        [
         "dbfs:/user/hive/warehouse/client/_delta_log/_commits/",
         "_commits/",
         0,
         0
        ]
       ],
       "datasetInfos": [],
       "dbfsResultPath": null,
       "isJsonSchema": true,
       "metadata": {
        "isDbfsCommandResult": false
       },
       "overflow": false,
       "plotOptions": {
        "customPlotOptions": {},
        "displayType": "table",
        "pivotAggregation": null,
        "pivotColumns": null,
        "xColumns": null,
        "yColumns": null
       },
       "removedWidgets": [],
       "schema": [
        {
         "metadata": "{}",
         "name": "path",
         "type": "\"string\""
        },
        {
         "metadata": "{}",
         "name": "name",
         "type": "\"string\""
        },
        {
         "metadata": "{}",
         "name": "size",
         "type": "\"long\""
        },
        {
         "metadata": "{}",
         "name": "modificationTime",
         "type": "\"long\""
        }
       ],
       "type": "table"
      }
     },
     "output_type": "display_data"
    }
   ],
   "source": [
    "%fs ls dbfs:/user/hive/warehouse/client/_delta_log/"
   ]
  },
  {
   "cell_type": "code",
   "execution_count": 0,
   "metadata": {
    "application/vnd.databricks.v1+cell": {
     "cellMetadata": {
      "byteLimit": 2048000,
      "implicitDf": true,
      "rowLimit": 10000
     },
     "inputWidgets": {},
     "nuid": "b43f9a79-42e3-46fe-a8ac-7a40bdd3b485",
     "showTitle": false,
     "tableResultSettingsMap": {},
     "title": ""
    }
   },
   "outputs": [
    {
     "output_type": "display_data",
     "data": {
      "text/html": [
       "<style scoped>\n",
       "  .table-result-container {\n",
       "    max-height: 300px;\n",
       "    overflow: auto;\n",
       "  }\n",
       "  table, th, td {\n",
       "    border: 1px solid black;\n",
       "    border-collapse: collapse;\n",
       "  }\n",
       "  th, td {\n",
       "    padding: 5px;\n",
       "  }\n",
       "  th {\n",
       "    text-align: left;\n",
       "  }\n",
       "</style><div class='table-result-container'><table class='table-result'><thead style='background-color: white'><tr><th>num_affected_rows</th></tr></thead><tbody><tr><td>1</td></tr></tbody></table></div>"
      ]
     },
     "metadata": {
      "application/vnd.databricks.v1+output": {
       "addedWidgets": {},
       "aggData": [],
       "aggError": "",
       "aggOverflow": false,
       "aggSchema": [],
       "aggSeriesLimitReached": false,
       "aggType": "",
       "arguments": {},
       "columnCustomDisplayInfos": {},
       "data": [
        [
         1
        ]
       ],
       "datasetInfos": [],
       "dbfsResultPath": null,
       "isJsonSchema": true,
       "metadata": {
        "createTempViewForImplicitDf": true,
        "dataframeName": "_sqldf",
        "executionCount": 4
       },
       "overflow": false,
       "plotOptions": {
        "customPlotOptions": {},
        "displayType": "table",
        "pivotAggregation": null,
        "pivotColumns": null,
        "xColumns": null,
        "yColumns": null
       },
       "removedWidgets": [],
       "schema": [
        {
         "metadata": "{}",
         "name": "num_affected_rows",
         "type": "\"long\""
        }
       ],
       "type": "table"
      }
     },
     "output_type": "display_data"
    }
   ],
   "source": [
    "%sql\n",
    "UPDATE client\n",
    "SET email = \"carlos@gmail.com\"\n",
    "WHERE nome LIKE \"Carlos\""
   ]
  },
  {
   "cell_type": "code",
   "execution_count": 0,
   "metadata": {
    "application/vnd.databricks.v1+cell": {
     "cellMetadata": {
      "byteLimit": 2048000,
      "implicitDf": true,
      "rowLimit": 10000
     },
     "inputWidgets": {},
     "nuid": "f2ae1e13-57c3-4612-a1f4-670e87eea814",
     "showTitle": false,
     "tableResultSettingsMap": {},
     "title": ""
    }
   },
   "outputs": [
    {
     "output_type": "display_data",
     "data": {
      "text/html": [
       "<style scoped>\n",
       "  .table-result-container {\n",
       "    max-height: 300px;\n",
       "    overflow: auto;\n",
       "  }\n",
       "  table, th, td {\n",
       "    border: 1px solid black;\n",
       "    border-collapse: collapse;\n",
       "  }\n",
       "  th, td {\n",
       "    padding: 5px;\n",
       "  }\n",
       "  th {\n",
       "    text-align: left;\n",
       "  }\n",
       "</style><div class='table-result-container'><table class='table-result'><thead style='background-color: white'><tr><th>id</th><th>nome</th><th>email</th></tr></thead><tbody><tr><td>1</td><td>Adam</td><td>adam@example.com</td></tr><tr><td>2</td><td>Sarah</td><td>sarah@email.com</td></tr><tr><td>3</td><td>Carlos</td><td>carlos@gmail.com</td></tr><tr><td>4</td><td>Fernando</td><td>nando@example.org</td></tr><tr><td>5</td><td>Paulo</td><td>paulo@example.com</td></tr></tbody></table></div>"
      ]
     },
     "metadata": {
      "application/vnd.databricks.v1+output": {
       "addedWidgets": {},
       "aggData": [],
       "aggError": "",
       "aggOverflow": false,
       "aggSchema": [],
       "aggSeriesLimitReached": false,
       "aggType": "",
       "arguments": {},
       "columnCustomDisplayInfos": {},
       "data": [
        [
         1,
         "Adam",
         "adam@example.com"
        ],
        [
         2,
         "Sarah",
         "sarah@email.com"
        ],
        [
         3,
         "Carlos",
         "carlos@gmail.com"
        ],
        [
         4,
         "Fernando",
         "nando@example.org"
        ],
        [
         5,
         "Paulo",
         "paulo@example.com"
        ]
       ],
       "datasetInfos": [],
       "dbfsResultPath": null,
       "isJsonSchema": true,
       "metadata": {
        "createTempViewForImplicitDf": true,
        "dataframeName": "_sqldf",
        "executionCount": 5
       },
       "overflow": false,
       "plotOptions": {
        "customPlotOptions": {},
        "displayType": "table",
        "pivotAggregation": null,
        "pivotColumns": null,
        "xColumns": null,
        "yColumns": null
       },
       "removedWidgets": [],
       "schema": [
        {
         "metadata": "{}",
         "name": "id",
         "type": "\"integer\""
        },
        {
         "metadata": "{}",
         "name": "nome",
         "type": "\"string\""
        },
        {
         "metadata": "{}",
         "name": "email",
         "type": "\"string\""
        }
       ],
       "type": "table"
      }
     },
     "output_type": "display_data"
    }
   ],
   "source": [
    "%sql\n",
    "SELECT * FROM client"
   ]
  },
  {
   "cell_type": "code",
   "execution_count": 0,
   "metadata": {
    "application/vnd.databricks.v1+cell": {
     "cellMetadata": {
      "byteLimit": 2048000,
      "rowLimit": 10000
     },
     "inputWidgets": {},
     "nuid": "bb5efb22-ece6-4b15-8774-90265f00d2d6",
     "showTitle": false,
     "tableResultSettingsMap": {},
     "title": ""
    }
   },
   "outputs": [
    {
     "output_type": "display_data",
     "data": {
      "text/html": [
       "<style scoped>\n",
       "  .table-result-container {\n",
       "    max-height: 300px;\n",
       "    overflow: auto;\n",
       "  }\n",
       "  table, th, td {\n",
       "    border: 1px solid black;\n",
       "    border-collapse: collapse;\n",
       "  }\n",
       "  th, td {\n",
       "    padding: 5px;\n",
       "  }\n",
       "  th {\n",
       "    text-align: left;\n",
       "  }\n",
       "</style><div class='table-result-container'><table class='table-result'><thead style='background-color: white'><tr><th>path</th><th>name</th><th>size</th><th>modificationTime</th></tr></thead><tbody><tr><td>dbfs:/user/hive/warehouse/client/_delta_log/</td><td>_delta_log/</td><td>0</td><td>0</td></tr><tr><td>dbfs:/user/hive/warehouse/client/part-00000-7068a226-f8c5-43b6-86e1-4d8506f42476-c000.snappy.parquet</td><td>part-00000-7068a226-f8c5-43b6-86e1-4d8506f42476-c000.snappy.parquet</td><td>1257</td><td>1749907920000</td></tr><tr><td>dbfs:/user/hive/warehouse/client/part-00000-a9a3dacd-a9c9-4015-84d5-519f3d20530a-c000.snappy.parquet</td><td>part-00000-a9a3dacd-a9c9-4015-84d5-519f3d20530a-c000.snappy.parquet</td><td>1260</td><td>1749908225000</td></tr></tbody></table></div>"
      ]
     },
     "metadata": {
      "application/vnd.databricks.v1+output": {
       "addedWidgets": {},
       "aggData": [],
       "aggError": "",
       "aggOverflow": false,
       "aggSchema": [],
       "aggSeriesLimitReached": false,
       "aggType": "",
       "arguments": {},
       "columnCustomDisplayInfos": {},
       "data": [
        [
         "dbfs:/user/hive/warehouse/client/_delta_log/",
         "_delta_log/",
         0,
         0
        ],
        [
         "dbfs:/user/hive/warehouse/client/part-00000-7068a226-f8c5-43b6-86e1-4d8506f42476-c000.snappy.parquet",
         "part-00000-7068a226-f8c5-43b6-86e1-4d8506f42476-c000.snappy.parquet",
         1257,
         1749907920000
        ],
        [
         "dbfs:/user/hive/warehouse/client/part-00000-a9a3dacd-a9c9-4015-84d5-519f3d20530a-c000.snappy.parquet",
         "part-00000-a9a3dacd-a9c9-4015-84d5-519f3d20530a-c000.snappy.parquet",
         1260,
         1749908225000
        ]
       ],
       "datasetInfos": [],
       "dbfsResultPath": null,
       "isJsonSchema": true,
       "metadata": {
        "isDbfsCommandResult": false
       },
       "overflow": false,
       "plotOptions": {
        "customPlotOptions": {},
        "displayType": "table",
        "pivotAggregation": null,
        "pivotColumns": null,
        "xColumns": null,
        "yColumns": null
       },
       "removedWidgets": [],
       "schema": [
        {
         "metadata": "{}",
         "name": "path",
         "type": "\"string\""
        },
        {
         "metadata": "{}",
         "name": "name",
         "type": "\"string\""
        },
        {
         "metadata": "{}",
         "name": "size",
         "type": "\"long\""
        },
        {
         "metadata": "{}",
         "name": "modificationTime",
         "type": "\"long\""
        }
       ],
       "type": "table"
      }
     },
     "output_type": "display_data"
    }
   ],
   "source": [
    "%fs ls \"dbfs:/user/hive/warehouse/client\""
   ]
  },
  {
   "cell_type": "code",
   "execution_count": 0,
   "metadata": {
    "application/vnd.databricks.v1+cell": {
     "cellMetadata": {
      "byteLimit": 2048000,
      "rowLimit": 10000
     },
     "inputWidgets": {},
     "nuid": "6f00332b-dfbb-4864-a49f-fb9a9d0c7f69",
     "showTitle": false,
     "tableResultSettingsMap": {},
     "title": ""
    }
   },
   "outputs": [
    {
     "output_type": "display_data",
     "data": {
      "text/html": [
       "<style scoped>\n",
       "  .table-result-container {\n",
       "    max-height: 300px;\n",
       "    overflow: auto;\n",
       "  }\n",
       "  table, th, td {\n",
       "    border: 1px solid black;\n",
       "    border-collapse: collapse;\n",
       "  }\n",
       "  th, td {\n",
       "    padding: 5px;\n",
       "  }\n",
       "  th {\n",
       "    text-align: left;\n",
       "  }\n",
       "</style><div class='table-result-container'><table class='table-result'><thead style='background-color: white'><tr><th>path</th><th>name</th><th>size</th><th>modificationTime</th></tr></thead><tbody><tr><td>dbfs:/user/hive/warehouse/client/_delta_log/00000000000000000000.crc</td><td>00000000000000000000.crc</td><td>2047</td><td>1749907821000</td></tr><tr><td>dbfs:/user/hive/warehouse/client/_delta_log/00000000000000000000.json</td><td>00000000000000000000.json</td><td>1070</td><td>1749907805000</td></tr><tr><td>dbfs:/user/hive/warehouse/client/_delta_log/00000000000000000001.crc</td><td>00000000000000000001.crc</td><td>2601</td><td>1749907926000</td></tr><tr><td>dbfs:/user/hive/warehouse/client/_delta_log/00000000000000000001.json</td><td>00000000000000000001.json</td><td>1154</td><td>1749907921000</td></tr><tr><td>dbfs:/user/hive/warehouse/client/_delta_log/00000000000000000002.crc</td><td>00000000000000000002.crc</td><td>2601</td><td>1749908230000</td></tr><tr><td>dbfs:/user/hive/warehouse/client/_delta_log/00000000000000000002.json</td><td>00000000000000000002.json</td><td>1833</td><td>1749908226000</td></tr><tr><td>dbfs:/user/hive/warehouse/client/_delta_log/_commits/</td><td>_commits/</td><td>0</td><td>0</td></tr></tbody></table></div>"
      ]
     },
     "metadata": {
      "application/vnd.databricks.v1+output": {
       "addedWidgets": {},
       "aggData": [],
       "aggError": "",
       "aggOverflow": false,
       "aggSchema": [],
       "aggSeriesLimitReached": false,
       "aggType": "",
       "arguments": {},
       "columnCustomDisplayInfos": {},
       "data": [
        [
         "dbfs:/user/hive/warehouse/client/_delta_log/00000000000000000000.crc",
         "00000000000000000000.crc",
         2047,
         1749907821000
        ],
        [
         "dbfs:/user/hive/warehouse/client/_delta_log/00000000000000000000.json",
         "00000000000000000000.json",
         1070,
         1749907805000
        ],
        [
         "dbfs:/user/hive/warehouse/client/_delta_log/00000000000000000001.crc",
         "00000000000000000001.crc",
         2601,
         1749907926000
        ],
        [
         "dbfs:/user/hive/warehouse/client/_delta_log/00000000000000000001.json",
         "00000000000000000001.json",
         1154,
         1749907921000
        ],
        [
         "dbfs:/user/hive/warehouse/client/_delta_log/00000000000000000002.crc",
         "00000000000000000002.crc",
         2601,
         1749908230000
        ],
        [
         "dbfs:/user/hive/warehouse/client/_delta_log/00000000000000000002.json",
         "00000000000000000002.json",
         1833,
         1749908226000
        ],
        [
         "dbfs:/user/hive/warehouse/client/_delta_log/_commits/",
         "_commits/",
         0,
         0
        ]
       ],
       "datasetInfos": [],
       "dbfsResultPath": null,
       "isJsonSchema": true,
       "metadata": {
        "isDbfsCommandResult": false
       },
       "overflow": false,
       "plotOptions": {
        "customPlotOptions": {},
        "displayType": "table",
        "pivotAggregation": null,
        "pivotColumns": null,
        "xColumns": null,
        "yColumns": null
       },
       "removedWidgets": [],
       "schema": [
        {
         "metadata": "{}",
         "name": "path",
         "type": "\"string\""
        },
        {
         "metadata": "{}",
         "name": "name",
         "type": "\"string\""
        },
        {
         "metadata": "{}",
         "name": "size",
         "type": "\"long\""
        },
        {
         "metadata": "{}",
         "name": "modificationTime",
         "type": "\"long\""
        }
       ],
       "type": "table"
      }
     },
     "output_type": "display_data"
    }
   ],
   "source": [
    "%fs ls dbfs:/user/hive/warehouse/client/_delta_log/"
   ]
  },
  {
   "cell_type": "code",
   "execution_count": 0,
   "metadata": {
    "application/vnd.databricks.v1+cell": {
     "cellMetadata": {
      "byteLimit": 2048000,
      "rowLimit": 10000
     },
     "inputWidgets": {},
     "nuid": "4893c963-e96c-4701-a432-34d41d60b1da",
     "showTitle": false,
     "tableResultSettingsMap": {},
     "title": ""
    }
   },
   "outputs": [
    {
     "output_type": "display_data",
     "data": {
      "text/html": [
       "<style scoped>\n",
       "  .ansiout {\n",
       "    display: block;\n",
       "    unicode-bidi: embed;\n",
       "    white-space: pre-wrap;\n",
       "    word-wrap: break-word;\n",
       "    word-break: break-all;\n",
       "    font-family: \"Menlo\", \"Monaco\", \"Consolas\", \"Ubuntu Mono\", \"Source Code Pro\", monospace;\n",
       "    font-size: 13px;\n",
       "    color: #555;\n",
       "    margin-left: 4px;\n",
       "    line-height: 19px;\n",
       "  }\n",
       "</style>\n",
       "<div class=\"ansiout\">{&quot;commitInfo&quot;:{&quot;timestamp&quot;:1749908225356,&quot;userId&quot;:&quot;5787056554928740&quot;,&quot;userName&quot;:&quot;thiagolsmail@gmail.com&quot;,&quot;operation&quot;:&quot;UPDATE&quot;,&quot;operationParameters&quot;:{&quot;predicate&quot;:&quot;[\\&quot;(nome#1479 = Carlos)\\&quot;]&quot;},&quot;notebook&quot;:{&quot;notebookId&quot;:&quot;3289096376091242&quot;},&quot;clusterId&quot;:&quot;0614-132416-8nqtb2y&quot;,&quot;readVersion&quot;:1,&quot;isolationLevel&quot;:&quot;WriteSerializable&quot;,&quot;isBlindAppend&quot;:false,&quot;operationMetrics&quot;:{&quot;numRemovedFiles&quot;:&quot;1&quot;,&quot;numRemovedBytes&quot;:&quot;1257&quot;,&quot;numCopiedRows&quot;:&quot;4&quot;,&quot;numDeletionVectorsAdded&quot;:&quot;0&quot;,&quot;numDeletionVectorsRemoved&quot;:&quot;0&quot;,&quot;numAddedChangeFiles&quot;:&quot;0&quot;,&quot;executionTimeMs&quot;:&quot;3361&quot;,&quot;numDeletionVectorsUpdated&quot;:&quot;0&quot;,&quot;scanTimeMs&quot;:&quot;1761&quot;,&quot;numAddedFiles&quot;:&quot;1&quot;,&quot;numUpdatedRows&quot;:&quot;1&quot;,&quot;numAddedBytes&quot;:&quot;1260&quot;,&quot;rewriteTimeMs&quot;:&quot;1585&quot;},&quot;tags&quot;:{&quot;noRowsCopied&quot;:&quot;false&quot;,&quot;delta.rowTracking.preserved&quot;:&quot;false&quot;,&quot;restoresDeletedRows&quot;:&quot;false&quot;},&quot;engineInfo&quot;:&quot;Databricks-Runtime/15.4.x-scala2.12&quot;,&quot;txnId&quot;:&quot;ff621f2b-0c1f-47da-8ba3-155c7dcf1a3f&quot;}}\n",
       "{&quot;remove&quot;:{&quot;path&quot;:&quot;part-00000-7068a226-f8c5-43b6-86e1-4d8506f42476-c000.snappy.parquet&quot;,&quot;deletionTimestamp&quot;:1749908225341,&quot;dataChange&quot;:true,&quot;extendedFileMetadata&quot;:true,&quot;partitionValues&quot;:{},&quot;size&quot;:1257,&quot;tags&quot;:{&quot;INSERTION_TIME&quot;:&quot;1749907920000000&quot;,&quot;MIN_INSERTION_TIME&quot;:&quot;1749907920000000&quot;,&quot;MAX_INSERTION_TIME&quot;:&quot;1749907920000000&quot;,&quot;OPTIMIZE_TARGET_SIZE&quot;:&quot;268435456&quot;},&quot;stats&quot;:&quot;{\\&quot;numRecords\\&quot;:5}&quot;}}\n",
       "{&quot;add&quot;:{&quot;path&quot;:&quot;part-00000-a9a3dacd-a9c9-4015-84d5-519f3d20530a-c000.snappy.parquet&quot;,&quot;partitionValues&quot;:{},&quot;size&quot;:1260,&quot;modificationTime&quot;:1749908225000,&quot;dataChange&quot;:true,&quot;stats&quot;:&quot;{\\&quot;numRecords\\&quot;:5,\\&quot;minValues\\&quot;:{\\&quot;id\\&quot;:1,\\&quot;nome\\&quot;:\\&quot;Adam\\&quot;,\\&quot;email\\&quot;:\\&quot;adam@example.com\\&quot;},\\&quot;maxValues\\&quot;:{\\&quot;id\\&quot;:5,\\&quot;nome\\&quot;:\\&quot;Sarah\\&quot;,\\&quot;email\\&quot;:\\&quot;sarah@email.com\\&quot;},\\&quot;nullCount\\&quot;:{\\&quot;id\\&quot;:0,\\&quot;nome\\&quot;:0,\\&quot;email\\&quot;:0}}&quot;,&quot;tags&quot;:{&quot;MAX_INSERTION_TIME&quot;:&quot;1749907920000000&quot;,&quot;INSERTION_TIME&quot;:&quot;1749907920000000&quot;,&quot;MIN_INSERTION_TIME&quot;:&quot;1749907920000000&quot;,&quot;OPTIMIZE_TARGET_SIZE&quot;:&quot;268435456&quot;}}}\n",
       "\n",
       "</div>"
      ]
     },
     "metadata": {
      "application/vnd.databricks.v1+output": {
       "addedWidgets": {},
       "arguments": {},
       "data": "<div class=\"ansiout\">{&quot;commitInfo&quot;:{&quot;timestamp&quot;:1749908225356,&quot;userId&quot;:&quot;5787056554928740&quot;,&quot;userName&quot;:&quot;thiagolsmail@gmail.com&quot;,&quot;operation&quot;:&quot;UPDATE&quot;,&quot;operationParameters&quot;:{&quot;predicate&quot;:&quot;[\\&quot;(nome#1479 = Carlos)\\&quot;]&quot;},&quot;notebook&quot;:{&quot;notebookId&quot;:&quot;3289096376091242&quot;},&quot;clusterId&quot;:&quot;0614-132416-8nqtb2y&quot;,&quot;readVersion&quot;:1,&quot;isolationLevel&quot;:&quot;WriteSerializable&quot;,&quot;isBlindAppend&quot;:false,&quot;operationMetrics&quot;:{&quot;numRemovedFiles&quot;:&quot;1&quot;,&quot;numRemovedBytes&quot;:&quot;1257&quot;,&quot;numCopiedRows&quot;:&quot;4&quot;,&quot;numDeletionVectorsAdded&quot;:&quot;0&quot;,&quot;numDeletionVectorsRemoved&quot;:&quot;0&quot;,&quot;numAddedChangeFiles&quot;:&quot;0&quot;,&quot;executionTimeMs&quot;:&quot;3361&quot;,&quot;numDeletionVectorsUpdated&quot;:&quot;0&quot;,&quot;scanTimeMs&quot;:&quot;1761&quot;,&quot;numAddedFiles&quot;:&quot;1&quot;,&quot;numUpdatedRows&quot;:&quot;1&quot;,&quot;numAddedBytes&quot;:&quot;1260&quot;,&quot;rewriteTimeMs&quot;:&quot;1585&quot;},&quot;tags&quot;:{&quot;noRowsCopied&quot;:&quot;false&quot;,&quot;delta.rowTracking.preserved&quot;:&quot;false&quot;,&quot;restoresDeletedRows&quot;:&quot;false&quot;},&quot;engineInfo&quot;:&quot;Databricks-Runtime/15.4.x-scala2.12&quot;,&quot;txnId&quot;:&quot;ff621f2b-0c1f-47da-8ba3-155c7dcf1a3f&quot;}}\n{&quot;remove&quot;:{&quot;path&quot;:&quot;part-00000-7068a226-f8c5-43b6-86e1-4d8506f42476-c000.snappy.parquet&quot;,&quot;deletionTimestamp&quot;:1749908225341,&quot;dataChange&quot;:true,&quot;extendedFileMetadata&quot;:true,&quot;partitionValues&quot;:{},&quot;size&quot;:1257,&quot;tags&quot;:{&quot;INSERTION_TIME&quot;:&quot;1749907920000000&quot;,&quot;MIN_INSERTION_TIME&quot;:&quot;1749907920000000&quot;,&quot;MAX_INSERTION_TIME&quot;:&quot;1749907920000000&quot;,&quot;OPTIMIZE_TARGET_SIZE&quot;:&quot;268435456&quot;},&quot;stats&quot;:&quot;{\\&quot;numRecords\\&quot;:5}&quot;}}\n{&quot;add&quot;:{&quot;path&quot;:&quot;part-00000-a9a3dacd-a9c9-4015-84d5-519f3d20530a-c000.snappy.parquet&quot;,&quot;partitionValues&quot;:{},&quot;size&quot;:1260,&quot;modificationTime&quot;:1749908225000,&quot;dataChange&quot;:true,&quot;stats&quot;:&quot;{\\&quot;numRecords\\&quot;:5,\\&quot;minValues\\&quot;:{\\&quot;id\\&quot;:1,\\&quot;nome\\&quot;:\\&quot;Adam\\&quot;,\\&quot;email\\&quot;:\\&quot;adam@example.com\\&quot;},\\&quot;maxValues\\&quot;:{\\&quot;id\\&quot;:5,\\&quot;nome\\&quot;:\\&quot;Sarah\\&quot;,\\&quot;email\\&quot;:\\&quot;sarah@email.com\\&quot;},\\&quot;nullCount\\&quot;:{\\&quot;id\\&quot;:0,\\&quot;nome\\&quot;:0,\\&quot;email\\&quot;:0}}&quot;,&quot;tags&quot;:{&quot;MAX_INSERTION_TIME&quot;:&quot;1749907920000000&quot;,&quot;INSERTION_TIME&quot;:&quot;1749907920000000&quot;,&quot;MIN_INSERTION_TIME&quot;:&quot;1749907920000000&quot;,&quot;OPTIMIZE_TARGET_SIZE&quot;:&quot;268435456&quot;}}}\n\n</div>",
       "datasetInfos": [],
       "metadata": {
        "isDbfsCommandResult": false
       },
       "removedWidgets": [],
       "type": "html"
      }
     },
     "output_type": "display_data"
    }
   ],
   "source": [
    "%fs head \"dbfs:/user/hive/warehouse/client/_delta_log/00000000000000000002.json\""
   ]
  },
  {
   "cell_type": "code",
   "execution_count": 0,
   "metadata": {
    "application/vnd.databricks.v1+cell": {
     "cellMetadata": {},
     "inputWidgets": {},
     "nuid": "64c82228-0768-4cb2-88fb-8b64b23b79f1",
     "showTitle": false,
     "tableResultSettingsMap": {},
     "title": ""
    }
   },
   "outputs": [],
   "source": []
  }
 ],
 "metadata": {
  "application/vnd.databricks.v1+notebook": {
   "computePreferences": null,
   "dashboards": [],
   "environmentMetadata": {
    "base_environment": "",
    "environment_version": "1"
   },
   "inputWidgetPreferences": null,
   "language": "python",
   "notebookMetadata": {
    "mostRecentlyExecutedCommandWithImplicitDF": {
     "commandId": 3289096376091254,
     "dataframes": [
      "_sqldf"
     ]
    },
    "pythonIndentUnit": 4
   },
   "notebookName": "Explorando_o_Funcionamento_do_Delta_Lake",
   "widgets": {}
  }
 },
 "nbformat": 4,
 "nbformat_minor": 0
}