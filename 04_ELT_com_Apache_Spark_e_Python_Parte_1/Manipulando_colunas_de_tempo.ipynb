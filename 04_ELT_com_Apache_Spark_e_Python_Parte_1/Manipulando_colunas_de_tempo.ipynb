{
 "cells": [
  {
   "cell_type": "code",
   "execution_count": 0,
   "metadata": {
    "application/vnd.databricks.v1+cell": {
     "cellMetadata": {
      "byteLimit": 2048000,
      "implicitDf": true,
      "rowLimit": 10000
     },
     "inputWidgets": {},
     "nuid": "3bb2feea-1d8d-4a3e-aab4-878835124cb8",
     "showTitle": false,
     "tableResultSettingsMap": {},
     "title": ""
    }
   },
   "outputs": [
    {
     "output_type": "display_data",
     "data": {
      "text/html": [
       "<style scoped>\n",
       "  .table-result-container {\n",
       "    max-height: 300px;\n",
       "    overflow: auto;\n",
       "  }\n",
       "  table, th, td {\n",
       "    border: 1px solid black;\n",
       "    border-collapse: collapse;\n",
       "  }\n",
       "  th, td {\n",
       "    padding: 5px;\n",
       "  }\n",
       "  th {\n",
       "    text-align: left;\n",
       "  }\n",
       "</style><div class='table-result-container'><table class='table-result'><thead style='background-color: white'><tr></tr></thead><tbody></tbody></table></div>"
      ]
     },
     "metadata": {
      "application/vnd.databricks.v1+output": {
       "addedWidgets": {},
       "aggData": [],
       "aggError": "",
       "aggOverflow": false,
       "aggSchema": [],
       "aggSeriesLimitReached": false,
       "aggType": "",
       "arguments": {},
       "columnCustomDisplayInfos": {},
       "data": [],
       "datasetInfos": [],
       "dbfsResultPath": null,
       "isJsonSchema": true,
       "metadata": {
        "dataframeName": null
       },
       "overflow": false,
       "plotOptions": {
        "customPlotOptions": {},
        "displayType": "table",
        "pivotAggregation": null,
        "pivotColumns": null,
        "xColumns": null,
        "yColumns": null
       },
       "removedWidgets": [],
       "schema": [],
       "type": "table"
      }
     },
     "output_type": "display_data"
    }
   ],
   "source": [
    "%sql\n",
    "CREATE OR REPLACE TEMPORARY VIEW my_temp_table(id, created_at, updated_at)\n",
    "AS VALUES\n",
    "(1, \"03-01-2025 21:13:21\", NULL),\n",
    "(2, \"04-02-2025 11:05:12\", \"20-02-2025 10:25:22\"),\n",
    "(3, \"05-02-2025 12:05:12\", \"21-02-2025 22:35:42\"),\n",
    "(4, \"06-01-2025 09:23:07\", \"01-03-2025 09:32:12\"),\n",
    "(5, \"25-02-2025 22:15:28\", NULL);"
   ]
  },
  {
   "cell_type": "code",
   "execution_count": 0,
   "metadata": {
    "application/vnd.databricks.v1+cell": {
     "cellMetadata": {
      "byteLimit": 2048000,
      "implicitDf": true,
      "rowLimit": 10000
     },
     "inputWidgets": {},
     "nuid": "c18ea2a0-8258-42d3-81b0-38f586d6ae7e",
     "showTitle": false,
     "tableResultSettingsMap": {},
     "title": ""
    }
   },
   "outputs": [
    {
     "output_type": "display_data",
     "data": {
      "text/html": [
       "<style scoped>\n",
       "  .table-result-container {\n",
       "    max-height: 300px;\n",
       "    overflow: auto;\n",
       "  }\n",
       "  table, th, td {\n",
       "    border: 1px solid black;\n",
       "    border-collapse: collapse;\n",
       "  }\n",
       "  th, td {\n",
       "    padding: 5px;\n",
       "  }\n",
       "  th {\n",
       "    text-align: left;\n",
       "  }\n",
       "</style><div class='table-result-container'><table class='table-result'><thead style='background-color: white'><tr><th>id</th><th>created_at</th><th>updated_at</th></tr></thead><tbody><tr><td>1</td><td>03-01-2025 21:13:21</td><td>null</td></tr><tr><td>2</td><td>04-02-2025 11:05:12</td><td>20-02-2025 10:25:22</td></tr><tr><td>3</td><td>05-02-2025 12:05:12</td><td>21-02-2025 22:35:42</td></tr><tr><td>4</td><td>06-01-2025 09:23:07</td><td>01-03-2025 09:32:12</td></tr><tr><td>5</td><td>25-02-2025 22:15:28</td><td>null</td></tr></tbody></table></div>"
      ]
     },
     "metadata": {
      "application/vnd.databricks.v1+output": {
       "addedWidgets": {},
       "aggData": [],
       "aggError": "",
       "aggOverflow": false,
       "aggSchema": [],
       "aggSeriesLimitReached": false,
       "aggType": "",
       "arguments": {},
       "columnCustomDisplayInfos": {},
       "data": [
        [
         1,
         "03-01-2025 21:13:21",
         null
        ],
        [
         2,
         "04-02-2025 11:05:12",
         "20-02-2025 10:25:22"
        ],
        [
         3,
         "05-02-2025 12:05:12",
         "21-02-2025 22:35:42"
        ],
        [
         4,
         "06-01-2025 09:23:07",
         "01-03-2025 09:32:12"
        ],
        [
         5,
         "25-02-2025 22:15:28",
         null
        ]
       ],
       "datasetInfos": [],
       "dbfsResultPath": null,
       "isJsonSchema": true,
       "metadata": {
        "createTempViewForImplicitDf": true,
        "dataframeName": "_sqldf",
        "executionCount": 1
       },
       "overflow": false,
       "plotOptions": {
        "customPlotOptions": {},
        "displayType": "table",
        "pivotAggregation": null,
        "pivotColumns": null,
        "xColumns": null,
        "yColumns": null
       },
       "removedWidgets": [],
       "schema": [
        {
         "metadata": "{}",
         "name": "id",
         "type": "\"integer\""
        },
        {
         "metadata": "{}",
         "name": "created_at",
         "type": "\"string\""
        },
        {
         "metadata": "{}",
         "name": "updated_at",
         "type": "\"string\""
        }
       ],
       "type": "table"
      }
     },
     "output_type": "display_data"
    }
   ],
   "source": [
    "%sql\n",
    "SELECT * FROM my_temp_table;"
   ]
  },
  {
   "cell_type": "code",
   "execution_count": 0,
   "metadata": {
    "application/vnd.databricks.v1+cell": {
     "cellMetadata": {
      "byteLimit": 2048000,
      "implicitDf": true,
      "rowLimit": 10000
     },
     "inputWidgets": {},
     "nuid": "74a5e989-934a-4848-8e1f-f2da05032356",
     "showTitle": false,
     "tableResultSettingsMap": {},
     "title": ""
    }
   },
   "outputs": [
    {
     "output_type": "display_data",
     "data": {
      "text/html": [
       "<style scoped>\n",
       "  .table-result-container {\n",
       "    max-height: 300px;\n",
       "    overflow: auto;\n",
       "  }\n",
       "  table, th, td {\n",
       "    border: 1px solid black;\n",
       "    border-collapse: collapse;\n",
       "  }\n",
       "  th, td {\n",
       "    padding: 5px;\n",
       "  }\n",
       "  th {\n",
       "    text-align: left;\n",
       "  }\n",
       "</style><div class='table-result-container'><table class='table-result'><thead style='background-color: white'><tr><th>id</th><th>ts_created_at</th><th>ts_updated_at</th></tr></thead><tbody><tr><td>1</td><td>2025-01-03T21:13:21Z</td><td>null</td></tr><tr><td>2</td><td>2025-02-04T11:05:12Z</td><td>2025-02-20T10:25:22Z</td></tr><tr><td>3</td><td>2025-02-05T12:05:12Z</td><td>2025-02-21T22:35:42Z</td></tr><tr><td>4</td><td>2025-01-06T09:23:07Z</td><td>2025-03-01T09:32:12Z</td></tr><tr><td>5</td><td>2025-02-25T22:15:28Z</td><td>null</td></tr></tbody></table></div>"
      ]
     },
     "metadata": {
      "application/vnd.databricks.v1+output": {
       "addedWidgets": {},
       "aggData": [],
       "aggError": "",
       "aggOverflow": false,
       "aggSchema": [],
       "aggSeriesLimitReached": false,
       "aggType": "",
       "arguments": {},
       "columnCustomDisplayInfos": {},
       "data": [
        [
         1,
         "2025-01-03T21:13:21Z",
         null
        ],
        [
         2,
         "2025-02-04T11:05:12Z",
         "2025-02-20T10:25:22Z"
        ],
        [
         3,
         "2025-02-05T12:05:12Z",
         "2025-02-21T22:35:42Z"
        ],
        [
         4,
         "2025-01-06T09:23:07Z",
         "2025-03-01T09:32:12Z"
        ],
        [
         5,
         "2025-02-25T22:15:28Z",
         null
        ]
       ],
       "datasetInfos": [],
       "dbfsResultPath": null,
       "isJsonSchema": true,
       "metadata": {
        "createTempViewForImplicitDf": true,
        "dataframeName": "_sqldf",
        "executionCount": 2
       },
       "overflow": false,
       "plotOptions": {
        "customPlotOptions": {},
        "displayType": "table",
        "pivotAggregation": null,
        "pivotColumns": null,
        "xColumns": null,
        "yColumns": null
       },
       "removedWidgets": [],
       "schema": [
        {
         "metadata": "{}",
         "name": "id",
         "type": "\"integer\""
        },
        {
         "metadata": "{}",
         "name": "ts_created_at",
         "type": "\"timestamp\""
        },
        {
         "metadata": "{}",
         "name": "ts_updated_at",
         "type": "\"timestamp\""
        }
       ],
       "type": "table"
      }
     },
     "output_type": "display_data"
    }
   ],
   "source": [
    "%sql\n",
    "SELECT\n",
    "  id,\n",
    "  to_timestamp(created_at, \"dd-MM-yyyy HH:mm:ss\") AS ts_created_at,\n",
    "  to_timestamp(updated_at, \"dd-MM-yyyy HH:mm:ss\") AS ts_updated_at\n",
    "FROM my_temp_table;"
   ]
  },
  {
   "cell_type": "code",
   "execution_count": 0,
   "metadata": {
    "application/vnd.databricks.v1+cell": {
     "cellMetadata": {
      "byteLimit": 2048000,
      "implicitDf": true,
      "rowLimit": 10000
     },
     "inputWidgets": {},
     "nuid": "203080e5-e4d6-49f7-818d-2bbb96052a7c",
     "showTitle": false,
     "tableResultSettingsMap": {},
     "title": ""
    }
   },
   "outputs": [
    {
     "output_type": "display_data",
     "data": {
      "text/html": [
       "<style scoped>\n",
       "  .table-result-container {\n",
       "    max-height: 300px;\n",
       "    overflow: auto;\n",
       "  }\n",
       "  table, th, td {\n",
       "    border: 1px solid black;\n",
       "    border-collapse: collapse;\n",
       "  }\n",
       "  th, td {\n",
       "    padding: 5px;\n",
       "  }\n",
       "  th {\n",
       "    text-align: left;\n",
       "  }\n",
       "</style><div class='table-result-container'><table class='table-result'><thead style='background-color: white'><tr><th>id</th><th>ts_created_at</th><th>ts_updated_at</th><th>year</th><th>month</th><th>day</th><th>hour</th><th>minute</th><th>second</th><th>week_of_year</th><th>day_of_week</th><th>event_date</th></tr></thead><tbody><tr><td>1</td><td>2025-01-03T21:13:21Z</td><td>null</td><td>2025</td><td>1</td><td>3</td><td>21</td><td>13</td><td>21</td><td>1</td><td>6</td><td>2025-01-03</td></tr><tr><td>2</td><td>2025-02-04T11:05:12Z</td><td>2025-02-20T10:25:22Z</td><td>2025</td><td>2</td><td>4</td><td>11</td><td>5</td><td>12</td><td>6</td><td>3</td><td>2025-02-04</td></tr><tr><td>3</td><td>2025-02-05T12:05:12Z</td><td>2025-02-21T22:35:42Z</td><td>2025</td><td>2</td><td>5</td><td>12</td><td>5</td><td>12</td><td>6</td><td>4</td><td>2025-02-05</td></tr><tr><td>4</td><td>2025-01-06T09:23:07Z</td><td>2025-03-01T09:32:12Z</td><td>2025</td><td>1</td><td>6</td><td>9</td><td>23</td><td>7</td><td>2</td><td>2</td><td>2025-01-06</td></tr><tr><td>5</td><td>2025-02-25T22:15:28Z</td><td>null</td><td>2025</td><td>2</td><td>25</td><td>22</td><td>15</td><td>28</td><td>9</td><td>3</td><td>2025-02-25</td></tr></tbody></table></div>"
      ]
     },
     "metadata": {
      "application/vnd.databricks.v1+output": {
       "addedWidgets": {},
       "aggData": [],
       "aggError": "",
       "aggOverflow": false,
       "aggSchema": [],
       "aggSeriesLimitReached": false,
       "aggType": "",
       "arguments": {},
       "columnCustomDisplayInfos": {},
       "data": [
        [
         1,
         "2025-01-03T21:13:21Z",
         null,
         2025,
         1,
         3,
         21,
         13,
         21,
         1,
         6,
         "2025-01-03"
        ],
        [
         2,
         "2025-02-04T11:05:12Z",
         "2025-02-20T10:25:22Z",
         2025,
         2,
         4,
         11,
         5,
         12,
         6,
         3,
         "2025-02-04"
        ],
        [
         3,
         "2025-02-05T12:05:12Z",
         "2025-02-21T22:35:42Z",
         2025,
         2,
         5,
         12,
         5,
         12,
         6,
         4,
         "2025-02-05"
        ],
        [
         4,
         "2025-01-06T09:23:07Z",
         "2025-03-01T09:32:12Z",
         2025,
         1,
         6,
         9,
         23,
         7,
         2,
         2,
         "2025-01-06"
        ],
        [
         5,
         "2025-02-25T22:15:28Z",
         null,
         2025,
         2,
         25,
         22,
         15,
         28,
         9,
         3,
         "2025-02-25"
        ]
       ],
       "datasetInfos": [],
       "dbfsResultPath": null,
       "isJsonSchema": true,
       "metadata": {
        "createTempViewForImplicitDf": true,
        "dataframeName": "_sqldf",
        "executionCount": 3
       },
       "overflow": false,
       "plotOptions": {
        "customPlotOptions": {},
        "displayType": "table",
        "pivotAggregation": null,
        "pivotColumns": null,
        "xColumns": null,
        "yColumns": null
       },
       "removedWidgets": [],
       "schema": [
        {
         "metadata": "{}",
         "name": "id",
         "type": "\"integer\""
        },
        {
         "metadata": "{}",
         "name": "ts_created_at",
         "type": "\"timestamp\""
        },
        {
         "metadata": "{}",
         "name": "ts_updated_at",
         "type": "\"timestamp\""
        },
        {
         "metadata": "{}",
         "name": "year",
         "type": "\"integer\""
        },
        {
         "metadata": "{}",
         "name": "month",
         "type": "\"integer\""
        },
        {
         "metadata": "{}",
         "name": "day",
         "type": "\"integer\""
        },
        {
         "metadata": "{}",
         "name": "hour",
         "type": "\"integer\""
        },
        {
         "metadata": "{}",
         "name": "minute",
         "type": "\"integer\""
        },
        {
         "metadata": "{}",
         "name": "second",
         "type": "\"integer\""
        },
        {
         "metadata": "{}",
         "name": "week_of_year",
         "type": "\"integer\""
        },
        {
         "metadata": "{}",
         "name": "day_of_week",
         "type": "\"integer\""
        },
        {
         "metadata": "{}",
         "name": "event_date",
         "type": "\"date\""
        }
       ],
       "type": "table"
      }
     },
     "output_type": "display_data"
    }
   ],
   "source": [
    "%sql\n",
    "SELECT\n",
    "  id,\n",
    "  to_timestamp(created_at, \"dd-MM-yyyy HH:mm:ss\") AS ts_created_at,\n",
    "  to_timestamp(updated_at, \"dd-MM-yyyy HH:mm:ss\") AS ts_updated_at,\n",
    "  year(ts_created_at) AS year,\n",
    "  month(ts_created_at) AS month,\n",
    "  day(ts_created_at) AS day,\n",
    "  hour(ts_created_at) AS hour,\n",
    "  minute(ts_created_at) AS minute,\n",
    "  second(ts_created_at) AS second,\n",
    "  weekofyear(ts_created_at) AS week_of_year,\n",
    "  dayofweek(ts_created_at) AS day_of_week,\n",
    "  date(ts_created_at) AS event_date\n",
    "FROM my_temp_table;"
   ]
  },
  {
   "cell_type": "code",
   "execution_count": 0,
   "metadata": {
    "application/vnd.databricks.v1+cell": {
     "cellMetadata": {
      "byteLimit": 2048000,
      "implicitDf": true,
      "rowLimit": 10000
     },
     "inputWidgets": {},
     "nuid": "85a68632-836e-4639-92f7-899d26ad2d4b",
     "showTitle": false,
     "tableResultSettingsMap": {},
     "title": ""
    }
   },
   "outputs": [
    {
     "output_type": "display_data",
     "data": {
      "text/html": [
       "<style scoped>\n",
       "  .table-result-container {\n",
       "    max-height: 300px;\n",
       "    overflow: auto;\n",
       "  }\n",
       "  table, th, td {\n",
       "    border: 1px solid black;\n",
       "    border-collapse: collapse;\n",
       "  }\n",
       "  th, td {\n",
       "    padding: 5px;\n",
       "  }\n",
       "  th {\n",
       "    text-align: left;\n",
       "  }\n",
       "</style><div class='table-result-container'><table class='table-result'><thead style='background-color: white'><tr><th>id</th><th>ts_created_at</th><th>ts_updated_at</th><th>days_diff</th><th>less_month_creation</th><th>next_day_creation</th><th>num_months_between</th></tr></thead><tbody><tr><td>1</td><td>2025-01-03T21:13:21Z</td><td>null</td><td>null</td><td>2024-12-03T21:13:21Z</td><td>2025-01-04</td><td>null</td></tr><tr><td>2</td><td>2025-02-04T11:05:12Z</td><td>2025-02-20T10:25:22Z</td><td>-15</td><td>2025-01-04T11:05:12Z</td><td>2025-02-05</td><td>-0.51523671</td></tr><tr><td>3</td><td>2025-02-05T12:05:12Z</td><td>2025-02-21T22:35:42Z</td><td>-16</td><td>2025-01-05T12:05:12Z</td><td>2025-02-06</td><td>-0.53025314</td></tr><tr><td>4</td><td>2025-01-06T09:23:07Z</td><td>2025-03-01T09:32:12Z</td><td>-54</td><td>2024-12-06T09:23:07Z</td><td>2025-01-07</td><td>-1.83891316</td></tr><tr><td>5</td><td>2025-02-25T22:15:28Z</td><td>null</td><td>null</td><td>2025-01-25T22:15:28Z</td><td>2025-02-26</td><td>null</td></tr></tbody></table></div>"
      ]
     },
     "metadata": {
      "application/vnd.databricks.v1+output": {
       "addedWidgets": {},
       "aggData": [],
       "aggError": "",
       "aggOverflow": false,
       "aggSchema": [],
       "aggSeriesLimitReached": false,
       "aggType": "",
       "arguments": {},
       "columnCustomDisplayInfos": {},
       "data": [
        [
         1,
         "2025-01-03T21:13:21Z",
         null,
         null,
         "2024-12-03T21:13:21Z",
         "2025-01-04",
         null
        ],
        [
         2,
         "2025-02-04T11:05:12Z",
         "2025-02-20T10:25:22Z",
         -15,
         "2025-01-04T11:05:12Z",
         "2025-02-05",
         -0.51523671
        ],
        [
         3,
         "2025-02-05T12:05:12Z",
         "2025-02-21T22:35:42Z",
         -16,
         "2025-01-05T12:05:12Z",
         "2025-02-06",
         -0.53025314
        ],
        [
         4,
         "2025-01-06T09:23:07Z",
         "2025-03-01T09:32:12Z",
         -54,
         "2024-12-06T09:23:07Z",
         "2025-01-07",
         -1.83891316
        ],
        [
         5,
         "2025-02-25T22:15:28Z",
         null,
         null,
         "2025-01-25T22:15:28Z",
         "2025-02-26",
         null
        ]
       ],
       "datasetInfos": [],
       "dbfsResultPath": null,
       "isJsonSchema": true,
       "metadata": {
        "createTempViewForImplicitDf": true,
        "dataframeName": "_sqldf",
        "executionCount": 4
       },
       "overflow": false,
       "plotOptions": {
        "customPlotOptions": {},
        "displayType": "table",
        "pivotAggregation": null,
        "pivotColumns": null,
        "xColumns": null,
        "yColumns": null
       },
       "removedWidgets": [],
       "schema": [
        {
         "metadata": "{}",
         "name": "id",
         "type": "\"integer\""
        },
        {
         "metadata": "{}",
         "name": "ts_created_at",
         "type": "\"timestamp\""
        },
        {
         "metadata": "{}",
         "name": "ts_updated_at",
         "type": "\"timestamp\""
        },
        {
         "metadata": "{}",
         "name": "days_diff",
         "type": "\"long\""
        },
        {
         "metadata": "{}",
         "name": "less_month_creation",
         "type": "\"timestamp\""
        },
        {
         "metadata": "{}",
         "name": "next_day_creation",
         "type": "\"date\""
        },
        {
         "metadata": "{}",
         "name": "num_months_between",
         "type": "\"double\""
        }
       ],
       "type": "table"
      }
     },
     "output_type": "display_data"
    }
   ],
   "source": [
    "%sql\n",
    "SELECT\n",
    "  id,\n",
    "  to_timestamp(created_at, \"dd-MM-yyyy HH:mm:ss\") AS ts_created_at,\n",
    "  to_timestamp(updated_at, \"dd-MM-yyyy HH:mm:ss\") AS ts_updated_at,\n",
    "  timestampdiff(DAY, ts_updated_at, ts_created_at) AS days_diff,\n",
    "  timestampadd(MONTH, -1, ts_created_at) AS less_month_creation,\n",
    "  date_add(ts_created_at, 1) AS next_day_creation,\n",
    "  months_between(ts_created_at, ts_updated_at) AS num_months_between\n",
    "FROM my_temp_table;"
   ]
  },
  {
   "cell_type": "code",
   "execution_count": 0,
   "metadata": {
    "application/vnd.databricks.v1+cell": {
     "cellMetadata": {},
     "inputWidgets": {},
     "nuid": "cb4cfae9-083e-41c8-9784-57d0e172f337",
     "showTitle": false,
     "tableResultSettingsMap": {},
     "title": ""
    }
   },
   "outputs": [],
   "source": []
  }
 ],
 "metadata": {
  "application/vnd.databricks.v1+notebook": {
   "computePreferences": null,
   "dashboards": [],
   "environmentMetadata": {
    "base_environment": "",
    "environment_version": "1"
   },
   "inputWidgetPreferences": null,
   "language": "python",
   "notebookMetadata": {
    "mostRecentlyExecutedCommandWithImplicitDF": {
     "commandId": 1378154814839695,
     "dataframes": [
      "_sqldf"
     ]
    },
    "pythonIndentUnit": 4
   },
   "notebookName": "Manipulando_colunas_de_tempo",
   "widgets": {}
  }
 },
 "nbformat": 4,
 "nbformat_minor": 0
}