{
 "cells": [
  {
   "cell_type": "code",
   "execution_count": 0,
   "metadata": {
    "application/vnd.databricks.v1+cell": {
     "cellMetadata": {
      "byteLimit": 2048000,
      "rowLimit": 10000
     },
     "inputWidgets": {},
     "nuid": "c0d6c60b-82d9-4ad2-ae03-7511d3bb8e69",
     "showTitle": false,
     "tableResultSettingsMap": {},
     "title": ""
    }
   },
   "outputs": [
    {
     "output_type": "stream",
     "name": "stdout",
     "output_type": "stream",
     "text": [
      "Wrote 297 bytes.\n"
     ]
    },
    {
     "output_type": "execute_result",
     "data": {
      "text/plain": [
       "True"
      ]
     },
     "execution_count": 1,
     "metadata": {},
     "output_type": "execute_result"
    }
   ],
   "source": [
    "csv_text = \"\"\"\n",
    "\"ID\",\"Name\",\"Email\",\"Phone\",\"CreatedAt\",\"UpdatedAt\"\n",
    "1,\"Iury Rosal\",\"iury@gmail.com\",88999999999,2024-09-22 17:10,2024-09-22 17:10\n",
    "2,\"Davi Oliveira\",\"davi@gmail.com\",85999999999,2024-07-10 14:15,2024-07-10 14:15\n",
    "3,\"Carlos Santos\",\"carlos@hotmail.com\",85999999999,2024-06-04 19:10,2024-06-04 19:10\n",
    "\"\"\"\n",
    "dbutils.fs.put(\"dbfs:/thiago/customers/01.csv\", csv_text, True)"
   ]
  },
  {
   "cell_type": "code",
   "execution_count": 0,
   "metadata": {
    "application/vnd.databricks.v1+cell": {
     "cellMetadata": {
      "byteLimit": 2048000,
      "implicitDf": true,
      "rowLimit": 10000
     },
     "inputWidgets": {},
     "nuid": "5e7ec8b8-7a1d-4d46-a8c8-a3ada368e16b",
     "showTitle": false,
     "tableResultSettingsMap": {},
     "title": ""
    }
   },
   "outputs": [
    {
     "output_type": "display_data",
     "data": {
      "text/html": [
       "<style scoped>\n",
       "  .table-result-container {\n",
       "    max-height: 300px;\n",
       "    overflow: auto;\n",
       "  }\n",
       "  table, th, td {\n",
       "    border: 1px solid black;\n",
       "    border-collapse: collapse;\n",
       "  }\n",
       "  th, td {\n",
       "    padding: 5px;\n",
       "  }\n",
       "  th {\n",
       "    text-align: left;\n",
       "  }\n",
       "</style><div class='table-result-container'><table class='table-result'><thead style='background-color: white'><tr><th>num_affected_rows</th><th>num_inserted_rows</th></tr></thead><tbody></tbody></table></div>"
      ]
     },
     "metadata": {
      "application/vnd.databricks.v1+output": {
       "addedWidgets": {},
       "aggData": [],
       "aggError": "",
       "aggOverflow": false,
       "aggSchema": [],
       "aggSeriesLimitReached": false,
       "aggType": "",
       "arguments": {},
       "columnCustomDisplayInfos": {},
       "data": [],
       "datasetInfos": [],
       "dbfsResultPath": null,
       "isJsonSchema": true,
       "metadata": {
        "createTempViewForImplicitDf": true,
        "dataframeName": "_sqldf",
        "executionCount": 1
       },
       "overflow": false,
       "plotOptions": {
        "customPlotOptions": {},
        "displayType": "table",
        "pivotAggregation": null,
        "pivotColumns": null,
        "xColumns": null,
        "yColumns": null
       },
       "removedWidgets": [],
       "schema": [
        {
         "metadata": "{}",
         "name": "num_affected_rows",
         "type": "\"long\""
        },
        {
         "metadata": "{}",
         "name": "num_inserted_rows",
         "type": "\"long\""
        }
       ],
       "type": "table"
      }
     },
     "output_type": "display_data"
    }
   ],
   "source": [
    "%sql\n",
    "CREATE OR REPLACE TABLE customers AS\n",
    "SELECT * \n",
    "FROM read_files(\n",
    "  \"dbfs:/thiago/customers/01.csv\",\n",
    "  format => \"csv\",\n",
    "  delimiter => \",\",\n",
    "  header => \"true\"\n",
    ");"
   ]
  },
  {
   "cell_type": "code",
   "execution_count": 0,
   "metadata": {
    "application/vnd.databricks.v1+cell": {
     "cellMetadata": {
      "byteLimit": 2048000,
      "implicitDf": true,
      "rowLimit": 10000
     },
     "inputWidgets": {},
     "nuid": "0288c522-ac6c-4f11-aada-b4ea1c410f47",
     "showTitle": false,
     "tableResultSettingsMap": {},
     "title": ""
    }
   },
   "outputs": [
    {
     "output_type": "display_data",
     "data": {
      "text/html": [
       "<style scoped>\n",
       "  .table-result-container {\n",
       "    max-height: 300px;\n",
       "    overflow: auto;\n",
       "  }\n",
       "  table, th, td {\n",
       "    border: 1px solid black;\n",
       "    border-collapse: collapse;\n",
       "  }\n",
       "  th, td {\n",
       "    padding: 5px;\n",
       "  }\n",
       "  th {\n",
       "    text-align: left;\n",
       "  }\n",
       "</style><div class='table-result-container'><table class='table-result'><thead style='background-color: white'><tr><th>ID</th><th>Name</th><th>Email</th><th>Phone</th><th>CreatedAt</th><th>UpdatedAt</th><th>_rescued_data</th></tr></thead><tbody><tr><td>1</td><td>Iury Rosal</td><td>iury@gmail.com</td><td>88999999999</td><td>2024-09-22T17:10:00Z</td><td>2024-09-22T17:10:00Z</td><td>null</td></tr><tr><td>2</td><td>Davi Oliveira</td><td>davi@gmail.com</td><td>85999999999</td><td>2024-07-10T14:15:00Z</td><td>2024-07-10T14:15:00Z</td><td>null</td></tr><tr><td>3</td><td>Carlos Santos</td><td>carlos@hotmail.com</td><td>85999999999</td><td>2024-06-04T19:10:00Z</td><td>2024-06-04T19:10:00Z</td><td>null</td></tr></tbody></table></div>"
      ]
     },
     "metadata": {
      "application/vnd.databricks.v1+output": {
       "addedWidgets": {},
       "aggData": [],
       "aggError": "",
       "aggOverflow": false,
       "aggSchema": [],
       "aggSeriesLimitReached": false,
       "aggType": "",
       "arguments": {},
       "columnCustomDisplayInfos": {},
       "data": [
        [
         1,
         "Iury Rosal",
         "iury@gmail.com",
         88999999999,
         "2024-09-22T17:10:00Z",
         "2024-09-22T17:10:00Z",
         null
        ],
        [
         2,
         "Davi Oliveira",
         "davi@gmail.com",
         85999999999,
         "2024-07-10T14:15:00Z",
         "2024-07-10T14:15:00Z",
         null
        ],
        [
         3,
         "Carlos Santos",
         "carlos@hotmail.com",
         85999999999,
         "2024-06-04T19:10:00Z",
         "2024-06-04T19:10:00Z",
         null
        ]
       ],
       "datasetInfos": [],
       "dbfsResultPath": null,
       "isJsonSchema": true,
       "metadata": {
        "createTempViewForImplicitDf": true,
        "dataframeName": "_sqldf",
        "executionCount": 2
       },
       "overflow": false,
       "plotOptions": {
        "customPlotOptions": {},
        "displayType": "table",
        "pivotAggregation": null,
        "pivotColumns": null,
        "xColumns": null,
        "yColumns": null
       },
       "removedWidgets": [],
       "schema": [
        {
         "metadata": "{}",
         "name": "ID",
         "type": "\"integer\""
        },
        {
         "metadata": "{}",
         "name": "Name",
         "type": "\"string\""
        },
        {
         "metadata": "{}",
         "name": "Email",
         "type": "\"string\""
        },
        {
         "metadata": "{}",
         "name": "Phone",
         "type": "\"long\""
        },
        {
         "metadata": "{}",
         "name": "CreatedAt",
         "type": "\"timestamp\""
        },
        {
         "metadata": "{}",
         "name": "UpdatedAt",
         "type": "\"timestamp\""
        },
        {
         "metadata": "{}",
         "name": "_rescued_data",
         "type": "\"string\""
        }
       ],
       "type": "table"
      }
     },
     "output_type": "display_data"
    }
   ],
   "source": [
    "%sql\n",
    "SELECT * FROM customers;"
   ]
  },
  {
   "cell_type": "code",
   "execution_count": 0,
   "metadata": {
    "application/vnd.databricks.v1+cell": {
     "cellMetadata": {
      "byteLimit": 2048000,
      "rowLimit": 10000
     },
     "inputWidgets": {},
     "nuid": "d527d51a-ba6a-48f5-aea2-4d3537f551cd",
     "showTitle": false,
     "tableResultSettingsMap": {},
     "title": ""
    }
   },
   "outputs": [
    {
     "output_type": "stream",
     "name": "stdout",
     "output_type": "stream",
     "text": [
      "Wrote 376 bytes.\n"
     ]
    },
    {
     "output_type": "execute_result",
     "data": {
      "text/plain": [
       "True"
      ]
     },
     "execution_count": 3,
     "metadata": {},
     "output_type": "execute_result"
    }
   ],
   "source": [
    "csv_text = \"\"\"\n",
    "\"ID\",\"Name\",\"Email\",\"Phone\",\"CreatedAt\",\"UpdatedAt\"\n",
    "1,\"Iury Rosal\",\"iury@gmail.com\",88999999999,2024-09-22 17:10,2024-09-22 17:10\n",
    "2,\"Davi Oliveira\",\"davi@gmail.com\",85999999999,2024-07-10 14:15,2024-07-10 14:15\n",
    "3,\"Carlos Santos\",\"carlos@hotmail.com\",85999999999,2024-06-04 19:10,2024-06-04 19:10\n",
    "4,\"Iago Lima\",\"iago@hotmail.com\",88999999999,2024-06-04 19:10,2024-06-04 19:10\n",
    "\"\"\"\n",
    "dbutils.fs.put(\"dbfs:/thiago/customers/02.csv\", csv_text, True)"
   ]
  },
  {
   "cell_type": "code",
   "execution_count": 0,
   "metadata": {
    "application/vnd.databricks.v1+cell": {
     "cellMetadata": {
      "byteLimit": 2048000,
      "implicitDf": true,
      "rowLimit": 10000
     },
     "inputWidgets": {},
     "nuid": "54305a88-ad3a-4c9d-929d-1aad5715bc9f",
     "showTitle": false,
     "tableResultSettingsMap": {},
     "title": ""
    }
   },
   "outputs": [
    {
     "output_type": "display_data",
     "data": {
      "text/html": [
       "<style scoped>\n",
       "  .table-result-container {\n",
       "    max-height: 300px;\n",
       "    overflow: auto;\n",
       "  }\n",
       "  table, th, td {\n",
       "    border: 1px solid black;\n",
       "    border-collapse: collapse;\n",
       "  }\n",
       "  th, td {\n",
       "    padding: 5px;\n",
       "  }\n",
       "  th {\n",
       "    text-align: left;\n",
       "  }\n",
       "</style><div class='table-result-container'><table class='table-result'><thead style='background-color: white'><tr><th>ID</th><th>Name</th><th>Email</th><th>Phone</th><th>CreatedAt</th><th>UpdatedAt</th><th>_rescued_data</th></tr></thead><tbody><tr><td>1</td><td>Iury Rosal</td><td>iury@gmail.com</td><td>88999999999</td><td>2024-09-22T17:10:00Z</td><td>2024-09-22T17:10:00Z</td><td>null</td></tr><tr><td>2</td><td>Davi Oliveira</td><td>davi@gmail.com</td><td>85999999999</td><td>2024-07-10T14:15:00Z</td><td>2024-07-10T14:15:00Z</td><td>null</td></tr><tr><td>3</td><td>Carlos Santos</td><td>carlos@hotmail.com</td><td>85999999999</td><td>2024-06-04T19:10:00Z</td><td>2024-06-04T19:10:00Z</td><td>null</td></tr><tr><td>4</td><td>Iago Lima</td><td>iago@hotmail.com</td><td>88999999999</td><td>2024-06-04T19:10:00Z</td><td>2024-06-04T19:10:00Z</td><td>null</td></tr></tbody></table></div>"
      ]
     },
     "metadata": {
      "application/vnd.databricks.v1+output": {
       "addedWidgets": {},
       "aggData": [],
       "aggError": "",
       "aggOverflow": false,
       "aggSchema": [],
       "aggSeriesLimitReached": false,
       "aggType": "",
       "arguments": {},
       "columnCustomDisplayInfos": {},
       "data": [
        [
         1,
         "Iury Rosal",
         "iury@gmail.com",
         88999999999,
         "2024-09-22T17:10:00Z",
         "2024-09-22T17:10:00Z",
         null
        ],
        [
         2,
         "Davi Oliveira",
         "davi@gmail.com",
         85999999999,
         "2024-07-10T14:15:00Z",
         "2024-07-10T14:15:00Z",
         null
        ],
        [
         3,
         "Carlos Santos",
         "carlos@hotmail.com",
         85999999999,
         "2024-06-04T19:10:00Z",
         "2024-06-04T19:10:00Z",
         null
        ],
        [
         4,
         "Iago Lima",
         "iago@hotmail.com",
         88999999999,
         "2024-06-04T19:10:00Z",
         "2024-06-04T19:10:00Z",
         null
        ]
       ],
       "datasetInfos": [],
       "dbfsResultPath": null,
       "isJsonSchema": true,
       "metadata": {
        "createTempViewForImplicitDf": true,
        "dataframeName": "_sqldf",
        "executionCount": 3
       },
       "overflow": false,
       "plotOptions": {
        "customPlotOptions": {},
        "displayType": "table",
        "pivotAggregation": null,
        "pivotColumns": null,
        "xColumns": null,
        "yColumns": null
       },
       "removedWidgets": [],
       "schema": [
        {
         "metadata": "{}",
         "name": "ID",
         "type": "\"integer\""
        },
        {
         "metadata": "{}",
         "name": "Name",
         "type": "\"string\""
        },
        {
         "metadata": "{}",
         "name": "Email",
         "type": "\"string\""
        },
        {
         "metadata": "{}",
         "name": "Phone",
         "type": "\"long\""
        },
        {
         "metadata": "{}",
         "name": "CreatedAt",
         "type": "\"timestamp\""
        },
        {
         "metadata": "{}",
         "name": "UpdatedAt",
         "type": "\"timestamp\""
        },
        {
         "metadata": "{}",
         "name": "_rescued_data",
         "type": "\"string\""
        }
       ],
       "type": "table"
      }
     },
     "output_type": "display_data"
    }
   ],
   "source": [
    "%sql\n",
    "SELECT * \n",
    "FROM read_files(\n",
    "  \"dbfs:/thiago/customers/02.csv\",\n",
    "  format => \"csv\",\n",
    "  delimiter => \",\",\n",
    "  header => \"true\"\n",
    ");"
   ]
  },
  {
   "cell_type": "code",
   "execution_count": 0,
   "metadata": {
    "application/vnd.databricks.v1+cell": {
     "cellMetadata": {
      "byteLimit": 2048000,
      "implicitDf": true,
      "rowLimit": 10000
     },
     "inputWidgets": {},
     "nuid": "03701415-282d-46a1-8d57-e911ce4026a7",
     "showTitle": false,
     "tableResultSettingsMap": {},
     "title": ""
    }
   },
   "outputs": [
    {
     "output_type": "display_data",
     "data": {
      "text/html": [
       "<style scoped>\n",
       "  .table-result-container {\n",
       "    max-height: 300px;\n",
       "    overflow: auto;\n",
       "  }\n",
       "  table, th, td {\n",
       "    border: 1px solid black;\n",
       "    border-collapse: collapse;\n",
       "  }\n",
       "  th, td {\n",
       "    padding: 5px;\n",
       "  }\n",
       "  th {\n",
       "    text-align: left;\n",
       "  }\n",
       "</style><div class='table-result-container'><table class='table-result'><thead style='background-color: white'><tr><th>num_affected_rows</th><th>num_updated_rows</th><th>num_deleted_rows</th><th>num_inserted_rows</th></tr></thead><tbody><tr><td>4</td><td>3</td><td>0</td><td>1</td></tr></tbody></table></div>"
      ]
     },
     "metadata": {
      "application/vnd.databricks.v1+output": {
       "addedWidgets": {},
       "aggData": [],
       "aggError": "",
       "aggOverflow": false,
       "aggSchema": [],
       "aggSeriesLimitReached": false,
       "aggType": "",
       "arguments": {},
       "columnCustomDisplayInfos": {},
       "data": [
        [
         4,
         3,
         0,
         1
        ]
       ],
       "datasetInfos": [],
       "dbfsResultPath": null,
       "isJsonSchema": true,
       "metadata": {
        "createTempViewForImplicitDf": true,
        "dataframeName": "_sqldf",
        "executionCount": 4
       },
       "overflow": false,
       "plotOptions": {
        "customPlotOptions": {},
        "displayType": "table",
        "pivotAggregation": null,
        "pivotColumns": null,
        "xColumns": null,
        "yColumns": null
       },
       "removedWidgets": [],
       "schema": [
        {
         "metadata": "{}",
         "name": "num_affected_rows",
         "type": "\"long\""
        },
        {
         "metadata": "{}",
         "name": "num_updated_rows",
         "type": "\"long\""
        },
        {
         "metadata": "{}",
         "name": "num_deleted_rows",
         "type": "\"long\""
        },
        {
         "metadata": "{}",
         "name": "num_inserted_rows",
         "type": "\"long\""
        }
       ],
       "type": "table"
      }
     },
     "output_type": "display_data"
    }
   ],
   "source": [
    "%sql\n",
    "MERGE INTO customers\n",
    "USING _sqldf\n",
    "ON customers.ID = _sqldf.ID\n",
    "WHEN MATCHED THEN\n",
    "  UPDATE SET\n",
    "    ID = _sqldf.ID,\n",
    "    Name = _sqldf.Name,\n",
    "    Email = _sqldf.Email,\n",
    "    Phone = _sqldf.Phone,\n",
    "    CreatedAt = _sqldf.CreatedAt,\n",
    "    UpdatedAt = _sqldf.UpdatedAt\n",
    "WHEN NOT MATCHED THEN \n",
    "  INSERT (\n",
    "    ID,\n",
    "    Name,\n",
    "    Email,\n",
    "    Phone,\n",
    "    CreatedAt,\n",
    "    UpdatedAt\n",
    "  )\n",
    "  VALUES (\n",
    "    _sqldf.ID,\n",
    "    _sqldf.Name,\n",
    "    _sqldf.Email,\n",
    "    _sqldf.Phone,\n",
    "    _sqldf.CreatedAt,\n",
    "    _sqldf.UpdatedAt\n",
    "  );"
   ]
  },
  {
   "cell_type": "code",
   "execution_count": 0,
   "metadata": {
    "application/vnd.databricks.v1+cell": {
     "cellMetadata": {
      "byteLimit": 2048000,
      "implicitDf": true,
      "rowLimit": 10000
     },
     "inputWidgets": {},
     "nuid": "dbf9ef3c-488d-4d7e-be1a-d9882eb3e93d",
     "showTitle": false,
     "tableResultSettingsMap": {},
     "title": ""
    }
   },
   "outputs": [
    {
     "output_type": "display_data",
     "data": {
      "text/html": [
       "<style scoped>\n",
       "  .table-result-container {\n",
       "    max-height: 300px;\n",
       "    overflow: auto;\n",
       "  }\n",
       "  table, th, td {\n",
       "    border: 1px solid black;\n",
       "    border-collapse: collapse;\n",
       "  }\n",
       "  th, td {\n",
       "    padding: 5px;\n",
       "  }\n",
       "  th {\n",
       "    text-align: left;\n",
       "  }\n",
       "</style><div class='table-result-container'><table class='table-result'><thead style='background-color: white'><tr><th>ID</th><th>Name</th><th>Email</th><th>Phone</th><th>CreatedAt</th><th>UpdatedAt</th><th>_rescued_data</th></tr></thead><tbody><tr><td>1</td><td>Iury Rosal</td><td>iury@gmail.com</td><td>88999999999</td><td>2024-09-22T17:10:00Z</td><td>2024-09-22T17:10:00Z</td><td>null</td></tr><tr><td>2</td><td>Davi Oliveira</td><td>davi@gmail.com</td><td>85999999999</td><td>2024-07-10T14:15:00Z</td><td>2024-07-10T14:15:00Z</td><td>null</td></tr><tr><td>3</td><td>Carlos Santos</td><td>carlos@hotmail.com</td><td>85999999999</td><td>2024-06-04T19:10:00Z</td><td>2024-06-04T19:10:00Z</td><td>null</td></tr><tr><td>4</td><td>Iago Lima</td><td>iago@hotmail.com</td><td>88999999999</td><td>2024-06-04T19:10:00Z</td><td>2024-06-04T19:10:00Z</td><td>null</td></tr></tbody></table></div>"
      ]
     },
     "metadata": {
      "application/vnd.databricks.v1+output": {
       "addedWidgets": {},
       "aggData": [],
       "aggError": "",
       "aggOverflow": false,
       "aggSchema": [],
       "aggSeriesLimitReached": false,
       "aggType": "",
       "arguments": {},
       "columnCustomDisplayInfos": {},
       "data": [
        [
         1,
         "Iury Rosal",
         "iury@gmail.com",
         88999999999,
         "2024-09-22T17:10:00Z",
         "2024-09-22T17:10:00Z",
         null
        ],
        [
         2,
         "Davi Oliveira",
         "davi@gmail.com",
         85999999999,
         "2024-07-10T14:15:00Z",
         "2024-07-10T14:15:00Z",
         null
        ],
        [
         3,
         "Carlos Santos",
         "carlos@hotmail.com",
         85999999999,
         "2024-06-04T19:10:00Z",
         "2024-06-04T19:10:00Z",
         null
        ],
        [
         4,
         "Iago Lima",
         "iago@hotmail.com",
         88999999999,
         "2024-06-04T19:10:00Z",
         "2024-06-04T19:10:00Z",
         null
        ]
       ],
       "datasetInfos": [],
       "dbfsResultPath": null,
       "isJsonSchema": true,
       "metadata": {
        "createTempViewForImplicitDf": true,
        "dataframeName": "_sqldf",
        "executionCount": 5
       },
       "overflow": false,
       "plotOptions": {
        "customPlotOptions": {},
        "displayType": "table",
        "pivotAggregation": null,
        "pivotColumns": null,
        "xColumns": null,
        "yColumns": null
       },
       "removedWidgets": [],
       "schema": [
        {
         "metadata": "{}",
         "name": "ID",
         "type": "\"integer\""
        },
        {
         "metadata": "{}",
         "name": "Name",
         "type": "\"string\""
        },
        {
         "metadata": "{}",
         "name": "Email",
         "type": "\"string\""
        },
        {
         "metadata": "{}",
         "name": "Phone",
         "type": "\"long\""
        },
        {
         "metadata": "{}",
         "name": "CreatedAt",
         "type": "\"timestamp\""
        },
        {
         "metadata": "{}",
         "name": "UpdatedAt",
         "type": "\"timestamp\""
        },
        {
         "metadata": "{}",
         "name": "_rescued_data",
         "type": "\"string\""
        }
       ],
       "type": "table"
      }
     },
     "output_type": "display_data"
    }
   ],
   "source": [
    "%sql\n",
    "SELECT * FROM customers;"
   ]
  },
  {
   "cell_type": "code",
   "execution_count": 0,
   "metadata": {
    "application/vnd.databricks.v1+cell": {
     "cellMetadata": {
      "byteLimit": 2048000,
      "implicitDf": true,
      "rowLimit": 10000
     },
     "inputWidgets": {},
     "nuid": "f34945f4-b15e-43d3-89c6-c3ab3f66b870",
     "showTitle": false,
     "tableResultSettingsMap": {},
     "title": ""
    }
   },
   "outputs": [
    {
     "output_type": "display_data",
     "data": {
      "text/html": [
       "<style scoped>\n",
       "  .table-result-container {\n",
       "    max-height: 300px;\n",
       "    overflow: auto;\n",
       "  }\n",
       "  table, th, td {\n",
       "    border: 1px solid black;\n",
       "    border-collapse: collapse;\n",
       "  }\n",
       "  th, td {\n",
       "    padding: 5px;\n",
       "  }\n",
       "  th {\n",
       "    text-align: left;\n",
       "  }\n",
       "</style><div class='table-result-container'><table class='table-result'><thead style='background-color: white'><tr><th>version</th><th>timestamp</th><th>userId</th><th>userName</th><th>operation</th><th>operationParameters</th><th>job</th><th>notebook</th><th>clusterId</th><th>readVersion</th><th>isolationLevel</th><th>isBlindAppend</th><th>operationMetrics</th><th>userMetadata</th><th>engineInfo</th></tr></thead><tbody><tr><td>3</td><td>2025-06-23T22:59:29Z</td><td>5787056554928740</td><td>thiagolsmail@gmail.com</td><td>MERGE</td><td>Map(predicate -> [\"(ID#1435 = ID#1389)\"], matchedPredicates -> [{\"actionType\":\"update\"}], statsOnLoad -> false, notMatchedBySourcePredicates -> [], notMatchedPredicates -> [{\"actionType\":\"insert\"}])</td><td>null</td><td>List(1736403796275429)</td><td>0623-223818-vsh7st2i</td><td>2</td><td>WriteSerializable</td><td>false</td><td>Map(numTargetRowsCopied -> 0, numTargetRowsDeleted -> 0, numTargetFilesAdded -> 1, numTargetBytesAdded -> 2312, numTargetBytesRemoved -> 2278, numTargetDeletionVectorsAdded -> 0, numTargetRowsMatchedUpdated -> 3, executionTimeMs -> 10009, materializeSourceTimeMs -> 1106, numTargetRowsInserted -> 1, numTargetRowsMatchedDeleted -> 0, numTargetDeletionVectorsUpdated -> 0, scanTimeMs -> 4532, numTargetRowsUpdated -> 3, numOutputRows -> 4, numTargetDeletionVectorsRemoved -> 0, numTargetRowsNotMatchedBySourceUpdated -> 0, numTargetChangeFilesAdded -> 0, numSourceRows -> 4, numTargetFilesRemoved -> 1, numTargetRowsNotMatchedBySourceDeleted -> 0, rewriteTimeMs -> 3870)</td><td>null</td><td>Databricks-Runtime/15.4.x-scala2.12</td></tr><tr><td>2</td><td>2025-06-23T22:48:55Z</td><td>5787056554928740</td><td>thiagolsmail@gmail.com</td><td>CREATE OR REPLACE TABLE AS SELECT</td><td>Map(partitionBy -> [], clusterBy -> [], description -> null, isManaged -> true, properties -> {}, statsOnLoad -> false)</td><td>null</td><td>List(1736403796275429)</td><td>0623-223818-vsh7st2i</td><td>1</td><td>WriteSerializable</td><td>false</td><td>Map(numFiles -> 1, numOutputRows -> 3, numOutputBytes -> 2278)</td><td>null</td><td>Databricks-Runtime/15.4.x-scala2.12</td></tr><tr><td>1</td><td>2025-06-21T00:27:30Z</td><td>5787056554928740</td><td>thiagolsmail@gmail.com</td><td>CREATE OR REPLACE TABLE AS SELECT</td><td>Map(partitionBy -> [], clusterBy -> [], description -> null, isManaged -> true, properties -> {}, statsOnLoad -> false)</td><td>null</td><td>List(1736403796275429)</td><td>0621-001648-h97eu7w1</td><td>0</td><td>WriteSerializable</td><td>false</td><td>Map(numFiles -> 1, numOutputRows -> 3, numOutputBytes -> 2278)</td><td>null</td><td>Databricks-Runtime/15.4.x-scala2.12</td></tr><tr><td>0</td><td>2025-06-20T22:59:49Z</td><td>5787056554928740</td><td>thiagolsmail@gmail.com</td><td>CREATE OR REPLACE TABLE AS SELECT</td><td>Map(partitionBy -> [], clusterBy -> [], description -> null, isManaged -> true, properties -> {}, statsOnLoad -> false)</td><td>null</td><td>List(1736403796275429)</td><td>0620-213151-u6h9t5ah</td><td>null</td><td>WriteSerializable</td><td>false</td><td>Map(numFiles -> 1, numOutputRows -> 3, numOutputBytes -> 2278)</td><td>null</td><td>Databricks-Runtime/15.4.x-scala2.12</td></tr></tbody></table></div>"
      ]
     },
     "metadata": {
      "application/vnd.databricks.v1+output": {
       "addedWidgets": {},
       "aggData": [],
       "aggError": "",
       "aggOverflow": false,
       "aggSchema": [],
       "aggSeriesLimitReached": false,
       "aggType": "",
       "arguments": {},
       "columnCustomDisplayInfos": {},
       "data": [
        [
         3,
         "2025-06-23T22:59:29Z",
         "5787056554928740",
         "thiagolsmail@gmail.com",
         "MERGE",
         {
          "matchedPredicates": "[{\"actionType\":\"update\"}]",
          "notMatchedBySourcePredicates": "[]",
          "notMatchedPredicates": "[{\"actionType\":\"insert\"}]",
          "predicate": "[\"(ID#1435 = ID#1389)\"]",
          "statsOnLoad": "false"
         },
         null,
         [
          "1736403796275429"
         ],
         "0623-223818-vsh7st2i",
         2,
         "WriteSerializable",
         false,
         {
          "executionTimeMs": "10009",
          "materializeSourceTimeMs": "1106",
          "numOutputRows": "4",
          "numSourceRows": "4",
          "numTargetBytesAdded": "2312",
          "numTargetBytesRemoved": "2278",
          "numTargetChangeFilesAdded": "0",
          "numTargetDeletionVectorsAdded": "0",
          "numTargetDeletionVectorsRemoved": "0",
          "numTargetDeletionVectorsUpdated": "0",
          "numTargetFilesAdded": "1",
          "numTargetFilesRemoved": "1",
          "numTargetRowsCopied": "0",
          "numTargetRowsDeleted": "0",
          "numTargetRowsInserted": "1",
          "numTargetRowsMatchedDeleted": "0",
          "numTargetRowsMatchedUpdated": "3",
          "numTargetRowsNotMatchedBySourceDeleted": "0",
          "numTargetRowsNotMatchedBySourceUpdated": "0",
          "numTargetRowsUpdated": "3",
          "rewriteTimeMs": "3870",
          "scanTimeMs": "4532"
         },
         null,
         "Databricks-Runtime/15.4.x-scala2.12"
        ],
        [
         2,
         "2025-06-23T22:48:55Z",
         "5787056554928740",
         "thiagolsmail@gmail.com",
         "CREATE OR REPLACE TABLE AS SELECT",
         {
          "clusterBy": "[]",
          "description": null,
          "isManaged": "true",
          "partitionBy": "[]",
          "properties": "{}",
          "statsOnLoad": "false"
         },
         null,
         [
          "1736403796275429"
         ],
         "0623-223818-vsh7st2i",
         1,
         "WriteSerializable",
         false,
         {
          "numFiles": "1",
          "numOutputBytes": "2278",
          "numOutputRows": "3"
         },
         null,
         "Databricks-Runtime/15.4.x-scala2.12"
        ],
        [
         1,
         "2025-06-21T00:27:30Z",
         "5787056554928740",
         "thiagolsmail@gmail.com",
         "CREATE OR REPLACE TABLE AS SELECT",
         {
          "clusterBy": "[]",
          "description": null,
          "isManaged": "true",
          "partitionBy": "[]",
          "properties": "{}",
          "statsOnLoad": "false"
         },
         null,
         [
          "1736403796275429"
         ],
         "0621-001648-h97eu7w1",
         0,
         "WriteSerializable",
         false,
         {
          "numFiles": "1",
          "numOutputBytes": "2278",
          "numOutputRows": "3"
         },
         null,
         "Databricks-Runtime/15.4.x-scala2.12"
        ],
        [
         0,
         "2025-06-20T22:59:49Z",
         "5787056554928740",
         "thiagolsmail@gmail.com",
         "CREATE OR REPLACE TABLE AS SELECT",
         {
          "clusterBy": "[]",
          "description": null,
          "isManaged": "true",
          "partitionBy": "[]",
          "properties": "{}",
          "statsOnLoad": "false"
         },
         null,
         [
          "1736403796275429"
         ],
         "0620-213151-u6h9t5ah",
         null,
         "WriteSerializable",
         false,
         {
          "numFiles": "1",
          "numOutputBytes": "2278",
          "numOutputRows": "3"
         },
         null,
         "Databricks-Runtime/15.4.x-scala2.12"
        ]
       ],
       "datasetInfos": [],
       "dbfsResultPath": null,
       "isJsonSchema": true,
       "metadata": {
        "createTempViewForImplicitDf": true,
        "dataframeName": "_sqldf",
        "executionCount": 6
       },
       "overflow": false,
       "plotOptions": {
        "customPlotOptions": {},
        "displayType": "table",
        "pivotAggregation": null,
        "pivotColumns": null,
        "xColumns": null,
        "yColumns": null
       },
       "removedWidgets": [],
       "schema": [
        {
         "metadata": "{}",
         "name": "version",
         "type": "\"long\""
        },
        {
         "metadata": "{}",
         "name": "timestamp",
         "type": "\"timestamp\""
        },
        {
         "metadata": "{}",
         "name": "userId",
         "type": "\"string\""
        },
        {
         "metadata": "{}",
         "name": "userName",
         "type": "\"string\""
        },
        {
         "metadata": "{}",
         "name": "operation",
         "type": "\"string\""
        },
        {
         "metadata": "{}",
         "name": "operationParameters",
         "type": "{\"type\":\"map\",\"keyType\":\"string\",\"valueType\":\"string\",\"valueContainsNull\":true}"
        },
        {
         "metadata": "{}",
         "name": "job",
         "type": "{\"type\":\"struct\",\"fields\":[{\"name\":\"jobId\",\"type\":\"string\",\"nullable\":true,\"metadata\":{}},{\"name\":\"jobName\",\"type\":\"string\",\"nullable\":true,\"metadata\":{}},{\"name\":\"jobRunId\",\"type\":\"string\",\"nullable\":true,\"metadata\":{}},{\"name\":\"runId\",\"type\":\"string\",\"nullable\":true,\"metadata\":{}},{\"name\":\"jobOwnerId\",\"type\":\"string\",\"nullable\":true,\"metadata\":{}},{\"name\":\"triggerType\",\"type\":\"string\",\"nullable\":true,\"metadata\":{}}]}"
        },
        {
         "metadata": "{}",
         "name": "notebook",
         "type": "{\"type\":\"struct\",\"fields\":[{\"name\":\"notebookId\",\"type\":\"string\",\"nullable\":true,\"metadata\":{}}]}"
        },
        {
         "metadata": "{}",
         "name": "clusterId",
         "type": "\"string\""
        },
        {
         "metadata": "{}",
         "name": "readVersion",
         "type": "\"long\""
        },
        {
         "metadata": "{}",
         "name": "isolationLevel",
         "type": "\"string\""
        },
        {
         "metadata": "{}",
         "name": "isBlindAppend",
         "type": "\"boolean\""
        },
        {
         "metadata": "{}",
         "name": "operationMetrics",
         "type": "{\"type\":\"map\",\"keyType\":\"string\",\"valueType\":\"string\",\"valueContainsNull\":true}"
        },
        {
         "metadata": "{}",
         "name": "userMetadata",
         "type": "\"string\""
        },
        {
         "metadata": "{}",
         "name": "engineInfo",
         "type": "\"string\""
        }
       ],
       "type": "table"
      }
     },
     "output_type": "display_data"
    }
   ],
   "source": [
    "%sql\n",
    "DESCRIBE HISTORY customers;"
   ]
  },
  {
   "cell_type": "code",
   "execution_count": 0,
   "metadata": {
    "application/vnd.databricks.v1+cell": {
     "cellMetadata": {
      "byteLimit": 2048000,
      "rowLimit": 10000
     },
     "inputWidgets": {},
     "nuid": "cb8e3920-e96f-4cd0-908a-d82ae289c97e",
     "showTitle": false,
     "tableResultSettingsMap": {},
     "title": ""
    }
   },
   "outputs": [
    {
     "output_type": "stream",
     "name": "stdout",
     "output_type": "stream",
     "text": [
      "Wrote 297 bytes.\n"
     ]
    },
    {
     "output_type": "execute_result",
     "data": {
      "text/plain": [
       "True"
      ]
     },
     "execution_count": 8,
     "metadata": {},
     "output_type": "execute_result"
    }
   ],
   "source": [
    "csv_text = \"\"\"\n",
    "\"ID\",\"Name\",\"Email\",\"Phone\",\"CreatedAt\",\"UpdatedAt\"\n",
    "1,\"Iury Rosal\",\"iury@gmail.com\",88999999999,2024-09-22 17:10,2024-09-22 17:10\n",
    "2,\"Davi Oliveira\",\"davi@gmail.com\",85999999999,2024-07-10 14:15,2024-07-10 14:15\n",
    "3,\"Carlos Santos\",\"carlos@hotmail.com\",85999999999,2024-06-04 19:10,2024-06-04 19:10\n",
    "\"\"\"\n",
    "dbutils.fs.put(\"dbfs:/thiago/customers/03.csv\", csv_text, True)"
   ]
  },
  {
   "cell_type": "code",
   "execution_count": 0,
   "metadata": {
    "application/vnd.databricks.v1+cell": {
     "cellMetadata": {
      "byteLimit": 2048000,
      "implicitDf": true,
      "rowLimit": 10000
     },
     "inputWidgets": {},
     "nuid": "8ea60677-7f9c-4fa5-bf8b-3c0ddfe2b77f",
     "showTitle": false,
     "tableResultSettingsMap": {},
     "title": ""
    }
   },
   "outputs": [
    {
     "output_type": "display_data",
     "data": {
      "text/html": [
       "<style scoped>\n",
       "  .table-result-container {\n",
       "    max-height: 300px;\n",
       "    overflow: auto;\n",
       "  }\n",
       "  table, th, td {\n",
       "    border: 1px solid black;\n",
       "    border-collapse: collapse;\n",
       "  }\n",
       "  th, td {\n",
       "    padding: 5px;\n",
       "  }\n",
       "  th {\n",
       "    text-align: left;\n",
       "  }\n",
       "</style><div class='table-result-container'><table class='table-result'><thead style='background-color: white'><tr><th>ID</th><th>Name</th><th>Email</th><th>Phone</th><th>CreatedAt</th><th>UpdatedAt</th><th>_rescued_data</th></tr></thead><tbody><tr><td>1</td><td>Iury Rosal</td><td>iury@gmail.com</td><td>88999999999</td><td>2024-09-22T17:10:00Z</td><td>2024-09-22T17:10:00Z</td><td>null</td></tr><tr><td>2</td><td>Davi Oliveira</td><td>davi@gmail.com</td><td>85999999999</td><td>2024-07-10T14:15:00Z</td><td>2024-07-10T14:15:00Z</td><td>null</td></tr><tr><td>3</td><td>Carlos Santos</td><td>carlos@hotmail.com</td><td>85999999999</td><td>2024-06-04T19:10:00Z</td><td>2024-06-04T19:10:00Z</td><td>null</td></tr></tbody></table></div>"
      ]
     },
     "metadata": {
      "application/vnd.databricks.v1+output": {
       "addedWidgets": {},
       "aggData": [],
       "aggError": "",
       "aggOverflow": false,
       "aggSchema": [],
       "aggSeriesLimitReached": false,
       "aggType": "",
       "arguments": {},
       "columnCustomDisplayInfos": {},
       "data": [
        [
         1,
         "Iury Rosal",
         "iury@gmail.com",
         88999999999,
         "2024-09-22T17:10:00Z",
         "2024-09-22T17:10:00Z",
         null
        ],
        [
         2,
         "Davi Oliveira",
         "davi@gmail.com",
         85999999999,
         "2024-07-10T14:15:00Z",
         "2024-07-10T14:15:00Z",
         null
        ],
        [
         3,
         "Carlos Santos",
         "carlos@hotmail.com",
         85999999999,
         "2024-06-04T19:10:00Z",
         "2024-06-04T19:10:00Z",
         null
        ]
       ],
       "datasetInfos": [],
       "dbfsResultPath": null,
       "isJsonSchema": true,
       "metadata": {
        "createTempViewForImplicitDf": true,
        "dataframeName": "_sqldf",
        "executionCount": 9
       },
       "overflow": false,
       "plotOptions": {
        "customPlotOptions": {},
        "displayType": "table",
        "pivotAggregation": null,
        "pivotColumns": null,
        "xColumns": null,
        "yColumns": null
       },
       "removedWidgets": [],
       "schema": [
        {
         "metadata": "{}",
         "name": "ID",
         "type": "\"integer\""
        },
        {
         "metadata": "{}",
         "name": "Name",
         "type": "\"string\""
        },
        {
         "metadata": "{}",
         "name": "Email",
         "type": "\"string\""
        },
        {
         "metadata": "{}",
         "name": "Phone",
         "type": "\"long\""
        },
        {
         "metadata": "{}",
         "name": "CreatedAt",
         "type": "\"timestamp\""
        },
        {
         "metadata": "{}",
         "name": "UpdatedAt",
         "type": "\"timestamp\""
        },
        {
         "metadata": "{}",
         "name": "_rescued_data",
         "type": "\"string\""
        }
       ],
       "type": "table"
      }
     },
     "output_type": "display_data"
    }
   ],
   "source": [
    "%sql\n",
    "SELECT * \n",
    "FROM read_files(\n",
    "  \"dbfs:/thiago/customers/03.csv\",\n",
    "  format => \"csv\",\n",
    "  delimiter => \",\",\n",
    "  header => \"true\"\n",
    ");"
   ]
  },
  {
   "cell_type": "code",
   "execution_count": 0,
   "metadata": {
    "application/vnd.databricks.v1+cell": {
     "cellMetadata": {
      "byteLimit": 2048000,
      "implicitDf": true,
      "rowLimit": 10000
     },
     "inputWidgets": {},
     "nuid": "70ce7ed8-35ea-44df-bb09-271f1620aae9",
     "showTitle": false,
     "tableResultSettingsMap": {},
     "title": ""
    }
   },
   "outputs": [
    {
     "output_type": "display_data",
     "data": {
      "text/html": [
       "<style scoped>\n",
       "  .table-result-container {\n",
       "    max-height: 300px;\n",
       "    overflow: auto;\n",
       "  }\n",
       "  table, th, td {\n",
       "    border: 1px solid black;\n",
       "    border-collapse: collapse;\n",
       "  }\n",
       "  th, td {\n",
       "    padding: 5px;\n",
       "  }\n",
       "  th {\n",
       "    text-align: left;\n",
       "  }\n",
       "</style><div class='table-result-container'><table class='table-result'><thead style='background-color: white'><tr><th>num_affected_rows</th><th>num_updated_rows</th><th>num_deleted_rows</th><th>num_inserted_rows</th></tr></thead><tbody><tr><td>3</td><td>3</td><td>0</td><td>0</td></tr></tbody></table></div>"
      ]
     },
     "metadata": {
      "application/vnd.databricks.v1+output": {
       "addedWidgets": {},
       "aggData": [],
       "aggError": "",
       "aggOverflow": false,
       "aggSchema": [],
       "aggSeriesLimitReached": false,
       "aggType": "",
       "arguments": {},
       "columnCustomDisplayInfos": {},
       "data": [
        [
         3,
         3,
         0,
         0
        ]
       ],
       "datasetInfos": [],
       "dbfsResultPath": null,
       "isJsonSchema": true,
       "metadata": {
        "createTempViewForImplicitDf": true,
        "dataframeName": "_sqldf",
        "executionCount": 10
       },
       "overflow": false,
       "plotOptions": {
        "customPlotOptions": {},
        "displayType": "table",
        "pivotAggregation": null,
        "pivotColumns": null,
        "xColumns": null,
        "yColumns": null
       },
       "removedWidgets": [],
       "schema": [
        {
         "metadata": "{}",
         "name": "num_affected_rows",
         "type": "\"long\""
        },
        {
         "metadata": "{}",
         "name": "num_updated_rows",
         "type": "\"long\""
        },
        {
         "metadata": "{}",
         "name": "num_deleted_rows",
         "type": "\"long\""
        },
        {
         "metadata": "{}",
         "name": "num_inserted_rows",
         "type": "\"long\""
        }
       ],
       "type": "table"
      }
     },
     "output_type": "display_data"
    }
   ],
   "source": [
    "%sql\n",
    "MERGE INTO customers\n",
    "USING _sqldf\n",
    "ON customers.ID = _sqldf.ID\n",
    "WHEN MATCHED THEN\n",
    "  UPDATE SET\n",
    "    ID = _sqldf.ID,\n",
    "    Name = _sqldf.Name,\n",
    "    Email = _sqldf.Email,\n",
    "    Phone = _sqldf.Phone,\n",
    "    CreatedAt = _sqldf.CreatedAt,\n",
    "    UpdatedAt = _sqldf.UpdatedAt\n",
    "WHEN NOT MATCHED THEN \n",
    "  INSERT (\n",
    "    ID,\n",
    "    Name,\n",
    "    Email,\n",
    "    Phone,\n",
    "    CreatedAt,\n",
    "    UpdatedAt\n",
    "  )\n",
    "  VALUES (\n",
    "    _sqldf.ID,\n",
    "    _sqldf.Name,\n",
    "    _sqldf.Email,\n",
    "    _sqldf.Phone,\n",
    "    _sqldf.CreatedAt,\n",
    "    _sqldf.UpdatedAt\n",
    "  );"
   ]
  },
  {
   "cell_type": "code",
   "execution_count": 0,
   "metadata": {
    "application/vnd.databricks.v1+cell": {
     "cellMetadata": {
      "byteLimit": 2048000,
      "implicitDf": true,
      "rowLimit": 10000
     },
     "inputWidgets": {},
     "nuid": "ab40daad-d5bb-48b5-ac7d-09994b8261d0",
     "showTitle": false,
     "tableResultSettingsMap": {},
     "title": ""
    }
   },
   "outputs": [
    {
     "output_type": "display_data",
     "data": {
      "text/html": [
       "<style scoped>\n",
       "  .table-result-container {\n",
       "    max-height: 300px;\n",
       "    overflow: auto;\n",
       "  }\n",
       "  table, th, td {\n",
       "    border: 1px solid black;\n",
       "    border-collapse: collapse;\n",
       "  }\n",
       "  th, td {\n",
       "    padding: 5px;\n",
       "  }\n",
       "  th {\n",
       "    text-align: left;\n",
       "  }\n",
       "</style><div class='table-result-container'><table class='table-result'><thead style='background-color: white'><tr><th>ID</th><th>Name</th><th>Email</th><th>Phone</th><th>CreatedAt</th><th>UpdatedAt</th><th>_rescued_data</th></tr></thead><tbody><tr><td>1</td><td>Iury Rosal</td><td>iury@gmail.com</td><td>88999999999</td><td>2024-09-22T17:10:00Z</td><td>2024-09-22T17:10:00Z</td><td>null</td></tr><tr><td>2</td><td>Davi Oliveira</td><td>davi@gmail.com</td><td>85999999999</td><td>2024-07-10T14:15:00Z</td><td>2024-07-10T14:15:00Z</td><td>null</td></tr><tr><td>3</td><td>Carlos Santos</td><td>carlos@hotmail.com</td><td>85999999999</td><td>2024-06-04T19:10:00Z</td><td>2024-06-04T19:10:00Z</td><td>null</td></tr><tr><td>4</td><td>Iago Lima</td><td>iago@hotmail.com</td><td>88999999999</td><td>2024-06-04T19:10:00Z</td><td>2024-06-04T19:10:00Z</td><td>null</td></tr></tbody></table></div>"
      ]
     },
     "metadata": {
      "application/vnd.databricks.v1+output": {
       "addedWidgets": {},
       "aggData": [],
       "aggError": "",
       "aggOverflow": false,
       "aggSchema": [],
       "aggSeriesLimitReached": false,
       "aggType": "",
       "arguments": {},
       "columnCustomDisplayInfos": {},
       "data": [
        [
         1,
         "Iury Rosal",
         "iury@gmail.com",
         88999999999,
         "2024-09-22T17:10:00Z",
         "2024-09-22T17:10:00Z",
         null
        ],
        [
         2,
         "Davi Oliveira",
         "davi@gmail.com",
         85999999999,
         "2024-07-10T14:15:00Z",
         "2024-07-10T14:15:00Z",
         null
        ],
        [
         3,
         "Carlos Santos",
         "carlos@hotmail.com",
         85999999999,
         "2024-06-04T19:10:00Z",
         "2024-06-04T19:10:00Z",
         null
        ],
        [
         4,
         "Iago Lima",
         "iago@hotmail.com",
         88999999999,
         "2024-06-04T19:10:00Z",
         "2024-06-04T19:10:00Z",
         null
        ]
       ],
       "datasetInfos": [],
       "dbfsResultPath": null,
       "isJsonSchema": true,
       "metadata": {
        "createTempViewForImplicitDf": true,
        "dataframeName": "_sqldf",
        "executionCount": 11
       },
       "overflow": false,
       "plotOptions": {
        "customPlotOptions": {},
        "displayType": "table",
        "pivotAggregation": null,
        "pivotColumns": null,
        "xColumns": null,
        "yColumns": null
       },
       "removedWidgets": [],
       "schema": [
        {
         "metadata": "{}",
         "name": "ID",
         "type": "\"integer\""
        },
        {
         "metadata": "{}",
         "name": "Name",
         "type": "\"string\""
        },
        {
         "metadata": "{}",
         "name": "Email",
         "type": "\"string\""
        },
        {
         "metadata": "{}",
         "name": "Phone",
         "type": "\"long\""
        },
        {
         "metadata": "{}",
         "name": "CreatedAt",
         "type": "\"timestamp\""
        },
        {
         "metadata": "{}",
         "name": "UpdatedAt",
         "type": "\"timestamp\""
        },
        {
         "metadata": "{}",
         "name": "_rescued_data",
         "type": "\"string\""
        }
       ],
       "type": "table"
      }
     },
     "output_type": "display_data"
    }
   ],
   "source": [
    "%sql\n",
    "SELECT * FROM customers;"
   ]
  },
  {
   "cell_type": "code",
   "execution_count": 0,
   "metadata": {
    "application/vnd.databricks.v1+cell": {
     "cellMetadata": {
      "byteLimit": 2048000,
      "implicitDf": true,
      "rowLimit": 10000
     },
     "inputWidgets": {},
     "nuid": "bfa61f8a-660e-4de7-ad30-9c5339cc4aa8",
     "showTitle": false,
     "tableResultSettingsMap": {},
     "title": ""
    }
   },
   "outputs": [
    {
     "output_type": "display_data",
     "data": {
      "text/html": [
       "<style scoped>\n",
       "  .table-result-container {\n",
       "    max-height: 300px;\n",
       "    overflow: auto;\n",
       "  }\n",
       "  table, th, td {\n",
       "    border: 1px solid black;\n",
       "    border-collapse: collapse;\n",
       "  }\n",
       "  th, td {\n",
       "    padding: 5px;\n",
       "  }\n",
       "  th {\n",
       "    text-align: left;\n",
       "  }\n",
       "</style><div class='table-result-container'><table class='table-result'><thead style='background-color: white'><tr><th>ID</th><th>Name</th><th>Email</th><th>Phone</th><th>CreatedAt</th><th>UpdatedAt</th><th>_rescued_data</th></tr></thead><tbody><tr><td>1</td><td>Iury Rosal</td><td>iury@gmail.com</td><td>88999999999</td><td>2024-09-22T17:10:00Z</td><td>2024-09-22T17:10:00Z</td><td>null</td></tr><tr><td>2</td><td>Davi Oliveira</td><td>davi@gmail.com</td><td>85999999999</td><td>2024-07-10T14:15:00Z</td><td>2024-07-10T14:15:00Z</td><td>null</td></tr><tr><td>3</td><td>Carlos Santos</td><td>carlos@hotmail.com</td><td>85999999999</td><td>2024-06-04T19:10:00Z</td><td>2024-06-04T19:10:00Z</td><td>null</td></tr></tbody></table></div>"
      ]
     },
     "metadata": {
      "application/vnd.databricks.v1+output": {
       "addedWidgets": {},
       "aggData": [],
       "aggError": "",
       "aggOverflow": false,
       "aggSchema": [],
       "aggSeriesLimitReached": false,
       "aggType": "",
       "arguments": {},
       "columnCustomDisplayInfos": {},
       "data": [
        [
         1,
         "Iury Rosal",
         "iury@gmail.com",
         88999999999,
         "2024-09-22T17:10:00Z",
         "2024-09-22T17:10:00Z",
         null
        ],
        [
         2,
         "Davi Oliveira",
         "davi@gmail.com",
         85999999999,
         "2024-07-10T14:15:00Z",
         "2024-07-10T14:15:00Z",
         null
        ],
        [
         3,
         "Carlos Santos",
         "carlos@hotmail.com",
         85999999999,
         "2024-06-04T19:10:00Z",
         "2024-06-04T19:10:00Z",
         null
        ]
       ],
       "datasetInfos": [],
       "dbfsResultPath": null,
       "isJsonSchema": true,
       "metadata": {
        "createTempViewForImplicitDf": true,
        "dataframeName": "_sqldf",
        "executionCount": 12
       },
       "overflow": false,
       "plotOptions": {
        "customPlotOptions": {},
        "displayType": "table",
        "pivotAggregation": null,
        "pivotColumns": null,
        "xColumns": null,
        "yColumns": null
       },
       "removedWidgets": [],
       "schema": [
        {
         "metadata": "{}",
         "name": "ID",
         "type": "\"integer\""
        },
        {
         "metadata": "{}",
         "name": "Name",
         "type": "\"string\""
        },
        {
         "metadata": "{}",
         "name": "Email",
         "type": "\"string\""
        },
        {
         "metadata": "{}",
         "name": "Phone",
         "type": "\"long\""
        },
        {
         "metadata": "{}",
         "name": "CreatedAt",
         "type": "\"timestamp\""
        },
        {
         "metadata": "{}",
         "name": "UpdatedAt",
         "type": "\"timestamp\""
        },
        {
         "metadata": "{}",
         "name": "_rescued_data",
         "type": "\"string\""
        }
       ],
       "type": "table"
      }
     },
     "output_type": "display_data"
    }
   ],
   "source": [
    "%sql\n",
    "SELECT * \n",
    "FROM read_files(\n",
    "  \"dbfs:/thiago/customers/03.csv\",\n",
    "  format => \"csv\",\n",
    "  delimiter => \",\",\n",
    "  header => \"true\"\n",
    ");"
   ]
  },
  {
   "cell_type": "code",
   "execution_count": 0,
   "metadata": {
    "application/vnd.databricks.v1+cell": {
     "cellMetadata": {
      "byteLimit": 2048000,
      "implicitDf": true,
      "rowLimit": 10000
     },
     "inputWidgets": {},
     "nuid": "834ce501-d9ca-4676-93f4-11b3fb154339",
     "showTitle": false,
     "tableResultSettingsMap": {},
     "title": ""
    }
   },
   "outputs": [
    {
     "output_type": "display_data",
     "data": {
      "text/html": [
       "<style scoped>\n",
       "  .table-result-container {\n",
       "    max-height: 300px;\n",
       "    overflow: auto;\n",
       "  }\n",
       "  table, th, td {\n",
       "    border: 1px solid black;\n",
       "    border-collapse: collapse;\n",
       "  }\n",
       "  th, td {\n",
       "    padding: 5px;\n",
       "  }\n",
       "  th {\n",
       "    text-align: left;\n",
       "  }\n",
       "</style><div class='table-result-container'><table class='table-result'><thead style='background-color: white'><tr><th>num_affected_rows</th><th>num_updated_rows</th><th>num_deleted_rows</th><th>num_inserted_rows</th></tr></thead><tbody><tr><td>4</td><td>3</td><td>1</td><td>0</td></tr></tbody></table></div>"
      ]
     },
     "metadata": {
      "application/vnd.databricks.v1+output": {
       "addedWidgets": {},
       "aggData": [],
       "aggError": "",
       "aggOverflow": false,
       "aggSchema": [],
       "aggSeriesLimitReached": false,
       "aggType": "",
       "arguments": {},
       "columnCustomDisplayInfos": {},
       "data": [
        [
         4,
         3,
         1,
         0
        ]
       ],
       "datasetInfos": [],
       "dbfsResultPath": null,
       "isJsonSchema": true,
       "metadata": {
        "createTempViewForImplicitDf": true,
        "dataframeName": "_sqldf",
        "executionCount": 13
       },
       "overflow": false,
       "plotOptions": {
        "customPlotOptions": {},
        "displayType": "table",
        "pivotAggregation": null,
        "pivotColumns": null,
        "xColumns": null,
        "yColumns": null
       },
       "removedWidgets": [],
       "schema": [
        {
         "metadata": "{}",
         "name": "num_affected_rows",
         "type": "\"long\""
        },
        {
         "metadata": "{}",
         "name": "num_updated_rows",
         "type": "\"long\""
        },
        {
         "metadata": "{}",
         "name": "num_deleted_rows",
         "type": "\"long\""
        },
        {
         "metadata": "{}",
         "name": "num_inserted_rows",
         "type": "\"long\""
        }
       ],
       "type": "table"
      }
     },
     "output_type": "display_data"
    }
   ],
   "source": [
    "%sql\n",
    "MERGE INTO customers\n",
    "USING _sqldf \n",
    "ON customers.ID = _sqldf.ID\n",
    "WHEN MATCHED THEN\n",
    "  UPDATE SET *\n",
    "WHEN NOT MATCHED THEN\n",
    "  INSERT *\n",
    "WHEN NOT MATCHED BY SOURCE THEN\n",
    "  DELETE;"
   ]
  },
  {
   "cell_type": "code",
   "execution_count": 0,
   "metadata": {
    "application/vnd.databricks.v1+cell": {
     "cellMetadata": {
      "byteLimit": 2048000,
      "implicitDf": true,
      "rowLimit": 10000
     },
     "inputWidgets": {},
     "nuid": "b36c350f-0e72-4cff-9836-1febb3d26234",
     "showTitle": false,
     "tableResultSettingsMap": {},
     "title": ""
    }
   },
   "outputs": [
    {
     "output_type": "display_data",
     "data": {
      "text/html": [
       "<style scoped>\n",
       "  .table-result-container {\n",
       "    max-height: 300px;\n",
       "    overflow: auto;\n",
       "  }\n",
       "  table, th, td {\n",
       "    border: 1px solid black;\n",
       "    border-collapse: collapse;\n",
       "  }\n",
       "  th, td {\n",
       "    padding: 5px;\n",
       "  }\n",
       "  th {\n",
       "    text-align: left;\n",
       "  }\n",
       "</style><div class='table-result-container'><table class='table-result'><thead style='background-color: white'><tr><th>ID</th><th>Name</th><th>Email</th><th>Phone</th><th>CreatedAt</th><th>UpdatedAt</th><th>_rescued_data</th></tr></thead><tbody><tr><td>1</td><td>Iury Rosal</td><td>iury@gmail.com</td><td>88999999999</td><td>2024-09-22T17:10:00Z</td><td>2024-09-22T17:10:00Z</td><td>null</td></tr><tr><td>2</td><td>Davi Oliveira</td><td>davi@gmail.com</td><td>85999999999</td><td>2024-07-10T14:15:00Z</td><td>2024-07-10T14:15:00Z</td><td>null</td></tr><tr><td>3</td><td>Carlos Santos</td><td>carlos@hotmail.com</td><td>85999999999</td><td>2024-06-04T19:10:00Z</td><td>2024-06-04T19:10:00Z</td><td>null</td></tr></tbody></table></div>"
      ]
     },
     "metadata": {
      "application/vnd.databricks.v1+output": {
       "addedWidgets": {},
       "aggData": [],
       "aggError": "",
       "aggOverflow": false,
       "aggSchema": [],
       "aggSeriesLimitReached": false,
       "aggType": "",
       "arguments": {},
       "columnCustomDisplayInfos": {},
       "data": [
        [
         1,
         "Iury Rosal",
         "iury@gmail.com",
         88999999999,
         "2024-09-22T17:10:00Z",
         "2024-09-22T17:10:00Z",
         null
        ],
        [
         2,
         "Davi Oliveira",
         "davi@gmail.com",
         85999999999,
         "2024-07-10T14:15:00Z",
         "2024-07-10T14:15:00Z",
         null
        ],
        [
         3,
         "Carlos Santos",
         "carlos@hotmail.com",
         85999999999,
         "2024-06-04T19:10:00Z",
         "2024-06-04T19:10:00Z",
         null
        ]
       ],
       "datasetInfos": [],
       "dbfsResultPath": null,
       "isJsonSchema": true,
       "metadata": {
        "createTempViewForImplicitDf": true,
        "dataframeName": "_sqldf",
        "executionCount": 14
       },
       "overflow": false,
       "plotOptions": {
        "customPlotOptions": {},
        "displayType": "table",
        "pivotAggregation": null,
        "pivotColumns": null,
        "xColumns": null,
        "yColumns": null
       },
       "removedWidgets": [],
       "schema": [
        {
         "metadata": "{}",
         "name": "ID",
         "type": "\"integer\""
        },
        {
         "metadata": "{}",
         "name": "Name",
         "type": "\"string\""
        },
        {
         "metadata": "{}",
         "name": "Email",
         "type": "\"string\""
        },
        {
         "metadata": "{}",
         "name": "Phone",
         "type": "\"long\""
        },
        {
         "metadata": "{}",
         "name": "CreatedAt",
         "type": "\"timestamp\""
        },
        {
         "metadata": "{}",
         "name": "UpdatedAt",
         "type": "\"timestamp\""
        },
        {
         "metadata": "{}",
         "name": "_rescued_data",
         "type": "\"string\""
        }
       ],
       "type": "table"
      }
     },
     "output_type": "display_data"
    }
   ],
   "source": [
    "%sql\n",
    "SELECT * FROM customers;"
   ]
  },
  {
   "cell_type": "code",
   "execution_count": 0,
   "metadata": {
    "application/vnd.databricks.v1+cell": {
     "cellMetadata": {
      "byteLimit": 2048000,
      "rowLimit": 10000
     },
     "inputWidgets": {},
     "nuid": "bf980a54-f5de-48a9-ae24-2629467f3862",
     "showTitle": false,
     "tableResultSettingsMap": {},
     "title": ""
    }
   },
   "outputs": [
    {
     "output_type": "stream",
     "name": "stdout",
     "output_type": "stream",
     "text": [
      "Wrote 214 bytes.\n"
     ]
    },
    {
     "output_type": "execute_result",
     "data": {
      "text/plain": [
       "True"
      ]
     },
     "execution_count": 15,
     "metadata": {},
     "output_type": "execute_result"
    }
   ],
   "source": [
    "csv_text = \"\"\"\n",
    "\"ID\",\"Name\",\"Email\",\"Phone\",\"CreatedAt\",\"UpdatedAt\"\n",
    "1,\"Iury Rosal\",\"iury@gmail.com\",88999999999,2024-09-22 17:10,2024-09-22 17:10\n",
    "3,\"Carlos Santos\",\"carlos@gmail.com\",85999999999,2024-06-04 19:10,2025-02-15 19:10\n",
    "\"\"\"\n",
    "dbutils.fs.put(\"dbfs:/thiago/customers/04.csv\", csv_text, True)"
   ]
  },
  {
   "cell_type": "code",
   "execution_count": 0,
   "metadata": {
    "application/vnd.databricks.v1+cell": {
     "cellMetadata": {
      "byteLimit": 2048000,
      "implicitDf": true,
      "rowLimit": 10000
     },
     "inputWidgets": {},
     "nuid": "66c18c9a-812a-4e65-af48-1905485d710f",
     "showTitle": false,
     "tableResultSettingsMap": {},
     "title": ""
    }
   },
   "outputs": [
    {
     "output_type": "display_data",
     "data": {
      "text/html": [
       "<style scoped>\n",
       "  .table-result-container {\n",
       "    max-height: 300px;\n",
       "    overflow: auto;\n",
       "  }\n",
       "  table, th, td {\n",
       "    border: 1px solid black;\n",
       "    border-collapse: collapse;\n",
       "  }\n",
       "  th, td {\n",
       "    padding: 5px;\n",
       "  }\n",
       "  th {\n",
       "    text-align: left;\n",
       "  }\n",
       "</style><div class='table-result-container'><table class='table-result'><thead style='background-color: white'><tr><th>ID</th><th>Name</th><th>Email</th><th>Phone</th><th>CreatedAt</th><th>UpdatedAt</th><th>_rescued_data</th></tr></thead><tbody><tr><td>1</td><td>Iury Rosal</td><td>iury@gmail.com</td><td>88999999999</td><td>2024-09-22T17:10:00Z</td><td>2024-09-22T17:10:00Z</td><td>null</td></tr><tr><td>3</td><td>Carlos Santos</td><td>carlos@gmail.com</td><td>85999999999</td><td>2024-06-04T19:10:00Z</td><td>2025-02-15T19:10:00Z</td><td>null</td></tr></tbody></table></div>"
      ]
     },
     "metadata": {
      "application/vnd.databricks.v1+output": {
       "addedWidgets": {},
       "aggData": [],
       "aggError": "",
       "aggOverflow": false,
       "aggSchema": [],
       "aggSeriesLimitReached": false,
       "aggType": "",
       "arguments": {},
       "columnCustomDisplayInfos": {},
       "data": [
        [
         1,
         "Iury Rosal",
         "iury@gmail.com",
         88999999999,
         "2024-09-22T17:10:00Z",
         "2024-09-22T17:10:00Z",
         null
        ],
        [
         3,
         "Carlos Santos",
         "carlos@gmail.com",
         85999999999,
         "2024-06-04T19:10:00Z",
         "2025-02-15T19:10:00Z",
         null
        ]
       ],
       "datasetInfos": [],
       "dbfsResultPath": null,
       "isJsonSchema": true,
       "metadata": {
        "createTempViewForImplicitDf": true,
        "dataframeName": "_sqldf",
        "executionCount": 16
       },
       "overflow": false,
       "plotOptions": {
        "customPlotOptions": {},
        "displayType": "table",
        "pivotAggregation": null,
        "pivotColumns": null,
        "xColumns": null,
        "yColumns": null
       },
       "removedWidgets": [],
       "schema": [
        {
         "metadata": "{}",
         "name": "ID",
         "type": "\"integer\""
        },
        {
         "metadata": "{}",
         "name": "Name",
         "type": "\"string\""
        },
        {
         "metadata": "{}",
         "name": "Email",
         "type": "\"string\""
        },
        {
         "metadata": "{}",
         "name": "Phone",
         "type": "\"long\""
        },
        {
         "metadata": "{}",
         "name": "CreatedAt",
         "type": "\"timestamp\""
        },
        {
         "metadata": "{}",
         "name": "UpdatedAt",
         "type": "\"timestamp\""
        },
        {
         "metadata": "{}",
         "name": "_rescued_data",
         "type": "\"string\""
        }
       ],
       "type": "table"
      }
     },
     "output_type": "display_data"
    }
   ],
   "source": [
    "%sql\n",
    "SELECT * \n",
    "FROM read_files(\n",
    "  \"dbfs:/thiago/customers/04.csv\",\n",
    "  format => \"csv\",\n",
    "  delimiter => \",\",\n",
    "  header => \"true\"\n",
    ");"
   ]
  },
  {
   "cell_type": "code",
   "execution_count": 0,
   "metadata": {
    "application/vnd.databricks.v1+cell": {
     "cellMetadata": {
      "byteLimit": 2048000,
      "implicitDf": true,
      "rowLimit": 10000
     },
     "inputWidgets": {},
     "nuid": "9405f2b0-9993-4a26-98fd-c871291e85bf",
     "showTitle": false,
     "tableResultSettingsMap": {},
     "title": ""
    }
   },
   "outputs": [
    {
     "output_type": "display_data",
     "data": {
      "text/html": [
       "<style scoped>\n",
       "  .table-result-container {\n",
       "    max-height: 300px;\n",
       "    overflow: auto;\n",
       "  }\n",
       "  table, th, td {\n",
       "    border: 1px solid black;\n",
       "    border-collapse: collapse;\n",
       "  }\n",
       "  th, td {\n",
       "    padding: 5px;\n",
       "  }\n",
       "  th {\n",
       "    text-align: left;\n",
       "  }\n",
       "</style><div class='table-result-container'><table class='table-result'><thead style='background-color: white'><tr><th>num_affected_rows</th><th>num_updated_rows</th><th>num_deleted_rows</th><th>num_inserted_rows</th></tr></thead><tbody><tr><td>2</td><td>1</td><td>1</td><td>0</td></tr></tbody></table></div>"
      ]
     },
     "metadata": {
      "application/vnd.databricks.v1+output": {
       "addedWidgets": {},
       "aggData": [],
       "aggError": "",
       "aggOverflow": false,
       "aggSchema": [],
       "aggSeriesLimitReached": false,
       "aggType": "",
       "arguments": {},
       "columnCustomDisplayInfos": {},
       "data": [
        [
         2,
         1,
         1,
         0
        ]
       ],
       "datasetInfos": [],
       "dbfsResultPath": null,
       "isJsonSchema": true,
       "metadata": {
        "createTempViewForImplicitDf": true,
        "dataframeName": "_sqldf",
        "executionCount": 17
       },
       "overflow": false,
       "plotOptions": {
        "customPlotOptions": {},
        "displayType": "table",
        "pivotAggregation": null,
        "pivotColumns": null,
        "xColumns": null,
        "yColumns": null
       },
       "removedWidgets": [],
       "schema": [
        {
         "metadata": "{}",
         "name": "num_affected_rows",
         "type": "\"long\""
        },
        {
         "metadata": "{}",
         "name": "num_updated_rows",
         "type": "\"long\""
        },
        {
         "metadata": "{}",
         "name": "num_deleted_rows",
         "type": "\"long\""
        },
        {
         "metadata": "{}",
         "name": "num_inserted_rows",
         "type": "\"long\""
        }
       ],
       "type": "table"
      }
     },
     "output_type": "display_data"
    }
   ],
   "source": [
    "%sql\n",
    "MERGE INTO customers\n",
    "USING _sqldf \n",
    "ON customers.ID = _sqldf.ID\n",
    "WHEN MATCHED AND customers.UpdatedAt != _sqldf.UpdatedAt THEN\n",
    "  UPDATE SET *\n",
    "WHEN NOT MATCHED THEN\n",
    "  INSERT *\n",
    "WHEN NOT MATCHED BY SOURCE THEN\n",
    "  DELETE;"
   ]
  },
  {
   "cell_type": "code",
   "execution_count": 0,
   "metadata": {
    "application/vnd.databricks.v1+cell": {
     "cellMetadata": {
      "byteLimit": 2048000,
      "implicitDf": true,
      "rowLimit": 10000
     },
     "inputWidgets": {},
     "nuid": "6280ab36-6eeb-4d87-80f5-1f81dd9d7871",
     "showTitle": false,
     "tableResultSettingsMap": {},
     "title": ""
    }
   },
   "outputs": [
    {
     "output_type": "display_data",
     "data": {
      "text/html": [
       "<style scoped>\n",
       "  .table-result-container {\n",
       "    max-height: 300px;\n",
       "    overflow: auto;\n",
       "  }\n",
       "  table, th, td {\n",
       "    border: 1px solid black;\n",
       "    border-collapse: collapse;\n",
       "  }\n",
       "  th, td {\n",
       "    padding: 5px;\n",
       "  }\n",
       "  th {\n",
       "    text-align: left;\n",
       "  }\n",
       "</style><div class='table-result-container'><table class='table-result'><thead style='background-color: white'><tr><th>ID</th><th>Name</th><th>Email</th><th>Phone</th><th>CreatedAt</th><th>UpdatedAt</th><th>_rescued_data</th></tr></thead><tbody><tr><td>3</td><td>Carlos Santos</td><td>carlos@gmail.com</td><td>85999999999</td><td>2024-06-04T19:10:00Z</td><td>2025-02-15T19:10:00Z</td><td>null</td></tr><tr><td>1</td><td>Iury Rosal</td><td>iury@gmail.com</td><td>88999999999</td><td>2024-09-22T17:10:00Z</td><td>2024-09-22T17:10:00Z</td><td>null</td></tr></tbody></table></div>"
      ]
     },
     "metadata": {
      "application/vnd.databricks.v1+output": {
       "addedWidgets": {},
       "aggData": [],
       "aggError": "",
       "aggOverflow": false,
       "aggSchema": [],
       "aggSeriesLimitReached": false,
       "aggType": "",
       "arguments": {},
       "columnCustomDisplayInfos": {},
       "data": [
        [
         3,
         "Carlos Santos",
         "carlos@gmail.com",
         85999999999,
         "2024-06-04T19:10:00Z",
         "2025-02-15T19:10:00Z",
         null
        ],
        [
         1,
         "Iury Rosal",
         "iury@gmail.com",
         88999999999,
         "2024-09-22T17:10:00Z",
         "2024-09-22T17:10:00Z",
         null
        ]
       ],
       "datasetInfos": [],
       "dbfsResultPath": null,
       "isJsonSchema": true,
       "metadata": {
        "createTempViewForImplicitDf": true,
        "dataframeName": "_sqldf",
        "executionCount": 18
       },
       "overflow": false,
       "plotOptions": {
        "customPlotOptions": {},
        "displayType": "table",
        "pivotAggregation": null,
        "pivotColumns": null,
        "xColumns": null,
        "yColumns": null
       },
       "removedWidgets": [],
       "schema": [
        {
         "metadata": "{}",
         "name": "ID",
         "type": "\"integer\""
        },
        {
         "metadata": "{}",
         "name": "Name",
         "type": "\"string\""
        },
        {
         "metadata": "{}",
         "name": "Email",
         "type": "\"string\""
        },
        {
         "metadata": "{}",
         "name": "Phone",
         "type": "\"long\""
        },
        {
         "metadata": "{}",
         "name": "CreatedAt",
         "type": "\"timestamp\""
        },
        {
         "metadata": "{}",
         "name": "UpdatedAt",
         "type": "\"timestamp\""
        },
        {
         "metadata": "{}",
         "name": "_rescued_data",
         "type": "\"string\""
        }
       ],
       "type": "table"
      }
     },
     "output_type": "display_data"
    }
   ],
   "source": [
    "%sql\n",
    "SELECT * FROM customers;"
   ]
  },
  {
   "cell_type": "code",
   "execution_count": 0,
   "metadata": {
    "application/vnd.databricks.v1+cell": {
     "cellMetadata": {},
     "inputWidgets": {},
     "nuid": "c7cb83e9-0d7d-427b-b537-8d8988809419",
     "showTitle": false,
     "tableResultSettingsMap": {},
     "title": ""
    }
   },
   "outputs": [],
   "source": []
  }
 ],
 "metadata": {
  "application/vnd.databricks.v1+notebook": {
   "computePreferences": null,
   "dashboards": [],
   "environmentMetadata": {
    "base_environment": "",
    "environment_version": "1"
   },
   "inputWidgetPreferences": null,
   "language": "python",
   "notebookMetadata": {
    "mostRecentlyExecutedCommandWithImplicitDF": {
     "commandId": 1378154814839650,
     "dataframes": [
      "_sqldf"
     ]
    },
    "pythonIndentUnit": 4
   },
   "notebookName": "UPSERT_com_operacao_MERGE",
   "widgets": {}
  }
 },
 "nbformat": 4,
 "nbformat_minor": 0
}