{
 "cells": [
  {
   "cell_type": "code",
   "execution_count": 0,
   "metadata": {
    "application/vnd.databricks.v1+cell": {
     "cellMetadata": {
      "byteLimit": 2048000,
      "rowLimit": 10000
     },
     "inputWidgets": {},
     "nuid": "3e775bbc-7cb7-4309-a9e2-b26e928cf215",
     "showTitle": false,
     "tableResultSettingsMap": {},
     "title": ""
    }
   },
   "outputs": [
    {
     "output_type": "stream",
     "name": "stdout",
     "output_type": "stream",
     "text": [
      "Olá Thiago Souza, arquivo /Users/thiagolsmail@gmail.com/apoena_stack/Engenharia_de_Dados_no_Databricks_1/01_Primeiros_passos_no_Databricks/teste executado.\n"
     ]
    }
   ],
   "source": [
    "fullname = \"Thiago Souza\"\n",
    "filename = notebook_path = (dbutils\n",
    "                            .notebook\n",
    "                            .entry_point\n",
    "                            .getDbutils()\n",
    "                            .notebook()\n",
    "                            .getContext()\n",
    "                            .notebookPath()\n",
    "                            .get())\n",
    "print(f\"Olá {fullname}, arquivo {filename} executado.\")"
   ]
  },
  {
   "cell_type": "code",
   "execution_count": 0,
   "metadata": {
    "application/vnd.databricks.v1+cell": {
     "cellMetadata": {},
     "inputWidgets": {},
     "nuid": "43df8bbb-6a13-4e4c-9a8b-6f1b614ef076",
     "showTitle": false,
     "tableResultSettingsMap": {},
     "title": ""
    }
   },
   "outputs": [],
   "source": []
  }
 ],
 "metadata": {
  "application/vnd.databricks.v1+notebook": {
   "computePreferences": null,
   "dashboards": [],
   "environmentMetadata": {
    "base_environment": "",
    "environment_version": "1"
   },
   "inputWidgetPreferences": null,
   "language": "python",
   "notebookMetadata": {
    "pythonIndentUnit": 4
   },
   "notebookName": "teste",
   "widgets": {}
  }
 },
 "nbformat": 4,
 "nbformat_minor": 0
}