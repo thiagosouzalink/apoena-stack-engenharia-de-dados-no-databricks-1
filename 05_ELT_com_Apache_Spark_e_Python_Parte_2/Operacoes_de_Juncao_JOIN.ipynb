{
 "cells": [
  {
   "cell_type": "markdown",
   "metadata": {
    "application/vnd.databricks.v1+cell": {
     "cellMetadata": {},
     "inputWidgets": {},
     "nuid": "b84ffacd-90cb-489b-a249-140119b80b03",
     "showTitle": false,
     "tableResultSettingsMap": {},
     "title": ""
    }
   },
   "source": [
    "# JUNÇÕES ENTRE TABELAS\n",
    "Para esse notebook, iremos criar duas views temporárias para simular funcionários de diferentes departamentos (view `employee`) e alguns departamentos correspodentes (view `department`). A coluna `deptno` especifica o número do departamento, sendo que na view `employee` (como uma chave estrangeira), mostra qual departamente o funcionário pertence/trabalha e na view `department` (como uma chave primária) contém os detalhes do departamento em questão. Por isso, a coluna `depto` poderá ser usada como lógica de junção entre as views (ou \"tabelas\"),"
   ]
  },
  {
   "cell_type": "code",
   "execution_count": 0,
   "metadata": {
    "application/vnd.databricks.v1+cell": {
     "cellMetadata": {
      "byteLimit": 2048000,
      "implicitDf": true,
      "rowLimit": 10000
     },
     "inputWidgets": {},
     "nuid": "d694c477-bdaa-4762-86d8-68ec7ee066a3",
     "showTitle": false,
     "tableResultSettingsMap": {},
     "title": ""
    }
   },
   "outputs": [
    {
     "output_type": "display_data",
     "data": {
      "text/html": [
       "<style scoped>\n",
       "  .table-result-container {\n",
       "    max-height: 300px;\n",
       "    overflow: auto;\n",
       "  }\n",
       "  table, th, td {\n",
       "    border: 1px solid black;\n",
       "    border-collapse: collapse;\n",
       "  }\n",
       "  th, td {\n",
       "    padding: 5px;\n",
       "  }\n",
       "  th {\n",
       "    text-align: left;\n",
       "  }\n",
       "</style><div class='table-result-container'><table class='table-result'><thead style='background-color: white'><tr></tr></thead><tbody></tbody></table></div>"
      ]
     },
     "metadata": {
      "application/vnd.databricks.v1+output": {
       "addedWidgets": {},
       "aggData": [],
       "aggError": "",
       "aggOverflow": false,
       "aggSchema": [],
       "aggSeriesLimitReached": false,
       "aggType": "",
       "arguments": {},
       "columnCustomDisplayInfos": {},
       "data": [],
       "datasetInfos": [],
       "dbfsResultPath": null,
       "isJsonSchema": true,
       "metadata": {
        "dataframeName": null
       },
       "overflow": false,
       "plotOptions": {
        "customPlotOptions": {},
        "displayType": "table",
        "pivotAggregation": null,
        "pivotColumns": null,
        "xColumns": null,
        "yColumns": null
       },
       "removedWidgets": [],
       "schema": [],
       "type": "table"
      }
     },
     "output_type": "display_data"
    }
   ],
   "source": [
    "%sql\n",
    "CREATE TEMP VIEW employee(id, name, deptno) AS\n",
    "  VALUES(105, 'Chloe', 5),\n",
    "        (103, 'Paul', 3),\n",
    "        (101, 'John', 1),\n",
    "        (102, 'Lisa', 2),\n",
    "        (104, 'Evan', 4),\n",
    "        (106, 'Amy' , 6);"
   ]
  },
  {
   "cell_type": "code",
   "execution_count": 0,
   "metadata": {
    "application/vnd.databricks.v1+cell": {
     "cellMetadata": {
      "byteLimit": 2048000,
      "implicitDf": true,
      "rowLimit": 10000
     },
     "inputWidgets": {},
     "nuid": "1a45963d-5118-4210-9757-466c0a7c9007",
     "showTitle": false,
     "tableResultSettingsMap": {},
     "title": ""
    }
   },
   "outputs": [
    {
     "output_type": "display_data",
     "data": {
      "text/html": [
       "<style scoped>\n",
       "  .table-result-container {\n",
       "    max-height: 300px;\n",
       "    overflow: auto;\n",
       "  }\n",
       "  table, th, td {\n",
       "    border: 1px solid black;\n",
       "    border-collapse: collapse;\n",
       "  }\n",
       "  th, td {\n",
       "    padding: 5px;\n",
       "  }\n",
       "  th {\n",
       "    text-align: left;\n",
       "  }\n",
       "</style><div class='table-result-container'><table class='table-result'><thead style='background-color: white'><tr></tr></thead><tbody></tbody></table></div>"
      ]
     },
     "metadata": {
      "application/vnd.databricks.v1+output": {
       "addedWidgets": {},
       "aggData": [],
       "aggError": "",
       "aggOverflow": false,
       "aggSchema": [],
       "aggSeriesLimitReached": false,
       "aggType": "",
       "arguments": {},
       "columnCustomDisplayInfos": {},
       "data": [],
       "datasetInfos": [],
       "dbfsResultPath": null,
       "isJsonSchema": true,
       "metadata": {
        "dataframeName": null
       },
       "overflow": false,
       "plotOptions": {
        "customPlotOptions": {},
        "displayType": "table",
        "pivotAggregation": null,
        "pivotColumns": null,
        "xColumns": null,
        "yColumns": null
       },
       "removedWidgets": [],
       "schema": [],
       "type": "table"
      }
     },
     "output_type": "display_data"
    }
   ],
   "source": [
    "%sql\n",
    "CREATE TEMP VIEW department(deptno, deptname) AS\n",
    "  VALUES(3, 'Engineering'),\n",
    "        (2, 'Sales'),\n",
    "        (1, 'Marketing');"
   ]
  },
  {
   "cell_type": "markdown",
   "metadata": {
    "application/vnd.databricks.v1+cell": {
     "cellMetadata": {},
     "inputWidgets": {},
     "nuid": "e1be72f0-96bb-415d-82b4-d28197f1239a",
     "showTitle": false,
     "tableResultSettingsMap": {},
     "title": ""
    }
   },
   "source": [
    "### INNER JOIN\n",
    "Retorna as linhas que têm valores correspondentes em ambas as referências de tabela. O tipo de junção padrão."
   ]
  },
  {
   "cell_type": "code",
   "execution_count": 0,
   "metadata": {
    "application/vnd.databricks.v1+cell": {
     "cellMetadata": {
      "byteLimit": 2048000,
      "implicitDf": true,
      "rowLimit": 10000
     },
     "inputWidgets": {},
     "nuid": "f08f002c-6ab5-4d98-af2a-6b904111aa0c",
     "showTitle": false,
     "tableResultSettingsMap": {},
     "title": ""
    }
   },
   "outputs": [
    {
     "output_type": "display_data",
     "data": {
      "text/html": [
       "<style scoped>\n",
       "  .table-result-container {\n",
       "    max-height: 300px;\n",
       "    overflow: auto;\n",
       "  }\n",
       "  table, th, td {\n",
       "    border: 1px solid black;\n",
       "    border-collapse: collapse;\n",
       "  }\n",
       "  th, td {\n",
       "    padding: 5px;\n",
       "  }\n",
       "  th {\n",
       "    text-align: left;\n",
       "  }\n",
       "</style><div class='table-result-container'><table class='table-result'><thead style='background-color: white'><tr><th>id</th><th>name</th><th>deptno</th><th>deptname</th></tr></thead><tbody><tr><td>103</td><td>Paul</td><td>3</td><td>Engineering</td></tr><tr><td>101</td><td>John</td><td>1</td><td>Marketing</td></tr><tr><td>102</td><td>Lisa</td><td>2</td><td>Sales</td></tr></tbody></table></div>"
      ]
     },
     "metadata": {
      "application/vnd.databricks.v1+output": {
       "addedWidgets": {},
       "aggData": [],
       "aggError": "",
       "aggOverflow": false,
       "aggSchema": [],
       "aggSeriesLimitReached": false,
       "aggType": "",
       "arguments": {},
       "columnCustomDisplayInfos": {},
       "data": [
        [
         103,
         "Paul",
         3,
         "Engineering"
        ],
        [
         101,
         "John",
         1,
         "Marketing"
        ],
        [
         102,
         "Lisa",
         2,
         "Sales"
        ]
       ],
       "datasetInfos": [],
       "dbfsResultPath": null,
       "isJsonSchema": true,
       "metadata": {
        "createTempViewForImplicitDf": true,
        "dataframeName": "_sqldf",
        "executionCount": 1
       },
       "overflow": false,
       "plotOptions": {
        "customPlotOptions": {},
        "displayType": "table",
        "pivotAggregation": null,
        "pivotColumns": null,
        "xColumns": null,
        "yColumns": null
       },
       "removedWidgets": [],
       "schema": [
        {
         "metadata": "{}",
         "name": "id",
         "type": "\"integer\""
        },
        {
         "metadata": "{}",
         "name": "name",
         "type": "\"string\""
        },
        {
         "metadata": "{}",
         "name": "deptno",
         "type": "\"integer\""
        },
        {
         "metadata": "{}",
         "name": "deptname",
         "type": "\"string\""
        }
       ],
       "type": "table"
      }
     },
     "output_type": "display_data"
    }
   ],
   "source": [
    "%sql\n",
    "SELECT \n",
    "  employee.id, \n",
    "  employee.name, \n",
    "  employee.deptno, \n",
    "  department.deptname\n",
    "FROM employee\n",
    "INNER JOIN department \n",
    "  ON employee.deptno = department.deptno;"
   ]
  },
  {
   "cell_type": "markdown",
   "metadata": {
    "application/vnd.databricks.v1+cell": {
     "cellMetadata": {},
     "inputWidgets": {},
     "nuid": "9df77588-a05a-4d07-9e51-564ab691a231",
     "showTitle": false,
     "tableResultSettingsMap": {},
     "title": ""
    }
   },
   "source": [
    "### LEFT JOIN\n",
    "Retorna todos os valores da referência de tabela esquerda e os valores correspondentes da referência de tabela direita, ou acrescenta NULL se não houver correspondência. Também é chamado de left outer join."
   ]
  },
  {
   "cell_type": "code",
   "execution_count": 0,
   "metadata": {
    "application/vnd.databricks.v1+cell": {
     "cellMetadata": {
      "byteLimit": 2048000,
      "implicitDf": true,
      "rowLimit": 10000
     },
     "inputWidgets": {},
     "nuid": "9f8a3734-34f2-4a72-bfb7-7475600ff152",
     "showTitle": false,
     "tableResultSettingsMap": {},
     "title": ""
    }
   },
   "outputs": [
    {
     "output_type": "display_data",
     "data": {
      "text/html": [
       "<style scoped>\n",
       "  .table-result-container {\n",
       "    max-height: 300px;\n",
       "    overflow: auto;\n",
       "  }\n",
       "  table, th, td {\n",
       "    border: 1px solid black;\n",
       "    border-collapse: collapse;\n",
       "  }\n",
       "  th, td {\n",
       "    padding: 5px;\n",
       "  }\n",
       "  th {\n",
       "    text-align: left;\n",
       "  }\n",
       "</style><div class='table-result-container'><table class='table-result'><thead style='background-color: white'><tr><th>id</th><th>name</th><th>deptno</th><th>deptname</th></tr></thead><tbody><tr><td>105</td><td>Chloe</td><td>5</td><td>null</td></tr><tr><td>103</td><td>Paul</td><td>3</td><td>Engineering</td></tr><tr><td>101</td><td>John</td><td>1</td><td>Marketing</td></tr><tr><td>102</td><td>Lisa</td><td>2</td><td>Sales</td></tr><tr><td>104</td><td>Evan</td><td>4</td><td>null</td></tr><tr><td>106</td><td>Amy</td><td>6</td><td>null</td></tr></tbody></table></div>"
      ]
     },
     "metadata": {
      "application/vnd.databricks.v1+output": {
       "addedWidgets": {},
       "aggData": [],
       "aggError": "",
       "aggOverflow": false,
       "aggSchema": [],
       "aggSeriesLimitReached": false,
       "aggType": "",
       "arguments": {},
       "columnCustomDisplayInfos": {},
       "data": [
        [
         105,
         "Chloe",
         5,
         null
        ],
        [
         103,
         "Paul",
         3,
         "Engineering"
        ],
        [
         101,
         "John",
         1,
         "Marketing"
        ],
        [
         102,
         "Lisa",
         2,
         "Sales"
        ],
        [
         104,
         "Evan",
         4,
         null
        ],
        [
         106,
         "Amy",
         6,
         null
        ]
       ],
       "datasetInfos": [],
       "dbfsResultPath": null,
       "isJsonSchema": true,
       "metadata": {
        "createTempViewForImplicitDf": true,
        "dataframeName": "_sqldf",
        "executionCount": 2
       },
       "overflow": false,
       "plotOptions": {
        "customPlotOptions": {},
        "displayType": "table",
        "pivotAggregation": null,
        "pivotColumns": null,
        "xColumns": null,
        "yColumns": null
       },
       "removedWidgets": [],
       "schema": [
        {
         "metadata": "{}",
         "name": "id",
         "type": "\"integer\""
        },
        {
         "metadata": "{}",
         "name": "name",
         "type": "\"string\""
        },
        {
         "metadata": "{}",
         "name": "deptno",
         "type": "\"integer\""
        },
        {
         "metadata": "{}",
         "name": "deptname",
         "type": "\"string\""
        }
       ],
       "type": "table"
      }
     },
     "output_type": "display_data"
    }
   ],
   "source": [
    "%sql\n",
    "SELECT \n",
    "  id, \n",
    "  name, \n",
    "  employee.deptno, \n",
    "  deptname\n",
    "FROM employee\n",
    "LEFT JOIN department \n",
    "  ON employee.deptno = department.deptno;"
   ]
  },
  {
   "cell_type": "markdown",
   "metadata": {
    "application/vnd.databricks.v1+cell": {
     "cellMetadata": {},
     "inputWidgets": {},
     "nuid": "86cd9f65-5bd4-4a84-a78b-adef2b150f7f",
     "showTitle": false,
     "tableResultSettingsMap": {},
     "title": ""
    }
   },
   "source": [
    "### RIGHT JOIN\n",
    "Retorna todos os valores da referência de tabela direita e os valores correspondentes da referência de tabela esquerda, ou acrescenta NULL se não houver correspondência. Também é chamado de right outer join."
   ]
  },
  {
   "cell_type": "code",
   "execution_count": 0,
   "metadata": {
    "application/vnd.databricks.v1+cell": {
     "cellMetadata": {
      "byteLimit": 2048000,
      "implicitDf": true,
      "rowLimit": 10000
     },
     "inputWidgets": {},
     "nuid": "7ad4daf0-fdf9-46a6-8daa-398c7fffd292",
     "showTitle": false,
     "tableResultSettingsMap": {},
     "title": ""
    }
   },
   "outputs": [
    {
     "output_type": "display_data",
     "data": {
      "text/html": [
       "<style scoped>\n",
       "  .table-result-container {\n",
       "    max-height: 300px;\n",
       "    overflow: auto;\n",
       "  }\n",
       "  table, th, td {\n",
       "    border: 1px solid black;\n",
       "    border-collapse: collapse;\n",
       "  }\n",
       "  th, td {\n",
       "    padding: 5px;\n",
       "  }\n",
       "  th {\n",
       "    text-align: left;\n",
       "  }\n",
       "</style><div class='table-result-container'><table class='table-result'><thead style='background-color: white'><tr><th>id</th><th>name</th><th>deptno</th><th>deptname</th></tr></thead><tbody><tr><td>103</td><td>Paul</td><td>3</td><td>Engineering</td></tr><tr><td>102</td><td>Lisa</td><td>2</td><td>Sales</td></tr><tr><td>101</td><td>John</td><td>1</td><td>Marketing</td></tr></tbody></table></div>"
      ]
     },
     "metadata": {
      "application/vnd.databricks.v1+output": {
       "addedWidgets": {},
       "aggData": [],
       "aggError": "",
       "aggOverflow": false,
       "aggSchema": [],
       "aggSeriesLimitReached": false,
       "aggType": "",
       "arguments": {},
       "columnCustomDisplayInfos": {},
       "data": [
        [
         103,
         "Paul",
         3,
         "Engineering"
        ],
        [
         102,
         "Lisa",
         2,
         "Sales"
        ],
        [
         101,
         "John",
         1,
         "Marketing"
        ]
       ],
       "datasetInfos": [],
       "dbfsResultPath": null,
       "isJsonSchema": true,
       "metadata": {
        "createTempViewForImplicitDf": true,
        "dataframeName": "_sqldf",
        "executionCount": 3
       },
       "overflow": false,
       "plotOptions": {
        "customPlotOptions": {},
        "displayType": "table",
        "pivotAggregation": null,
        "pivotColumns": null,
        "xColumns": null,
        "yColumns": null
       },
       "removedWidgets": [],
       "schema": [
        {
         "metadata": "{}",
         "name": "id",
         "type": "\"integer\""
        },
        {
         "metadata": "{}",
         "name": "name",
         "type": "\"string\""
        },
        {
         "metadata": "{}",
         "name": "deptno",
         "type": "\"integer\""
        },
        {
         "metadata": "{}",
         "name": "deptname",
         "type": "\"string\""
        }
       ],
       "type": "table"
      }
     },
     "output_type": "display_data"
    }
   ],
   "source": [
    "%sql\n",
    "SELECT \n",
    "  id, \n",
    "  name, \n",
    "  employee.deptno, \n",
    "  deptname\n",
    "FROM employee\n",
    "RIGHT JOIN department \n",
    "  ON employee.deptno = department.deptno;"
   ]
  },
  {
   "cell_type": "markdown",
   "metadata": {
    "application/vnd.databricks.v1+cell": {
     "cellMetadata": {},
     "inputWidgets": {},
     "nuid": "b4f04985-fdf0-4111-a980-1d2232ddf1d0",
     "showTitle": false,
     "tableResultSettingsMap": {},
     "title": ""
    }
   },
   "source": [
    "### FULL JOIN\n",
    "Retorna todos os valores de ambas as relações, acrescentando valores NULL no lado que não tem uma correspondência. Também é chamado de full outer join."
   ]
  },
  {
   "cell_type": "code",
   "execution_count": 0,
   "metadata": {
    "application/vnd.databricks.v1+cell": {
     "cellMetadata": {
      "byteLimit": 2048000,
      "implicitDf": true,
      "rowLimit": 10000
     },
     "inputWidgets": {},
     "nuid": "bee17110-9bc4-4908-a997-325ffd544f1a",
     "showTitle": false,
     "tableResultSettingsMap": {},
     "title": ""
    }
   },
   "outputs": [
    {
     "output_type": "display_data",
     "data": {
      "text/html": [
       "<style scoped>\n",
       "  .table-result-container {\n",
       "    max-height: 300px;\n",
       "    overflow: auto;\n",
       "  }\n",
       "  table, th, td {\n",
       "    border: 1px solid black;\n",
       "    border-collapse: collapse;\n",
       "  }\n",
       "  th, td {\n",
       "    padding: 5px;\n",
       "  }\n",
       "  th {\n",
       "    text-align: left;\n",
       "  }\n",
       "</style><div class='table-result-container'><table class='table-result'><thead style='background-color: white'><tr><th>id</th><th>name</th><th>deptno</th><th>deptname</th></tr></thead><tbody><tr><td>101</td><td>John</td><td>1</td><td>Marketing</td></tr><tr><td>102</td><td>Lisa</td><td>2</td><td>Sales</td></tr><tr><td>103</td><td>Paul</td><td>3</td><td>Engineering</td></tr><tr><td>104</td><td>Evan</td><td>4</td><td>null</td></tr><tr><td>105</td><td>Chloe</td><td>5</td><td>null</td></tr><tr><td>106</td><td>Amy</td><td>6</td><td>null</td></tr></tbody></table></div>"
      ]
     },
     "metadata": {
      "application/vnd.databricks.v1+output": {
       "addedWidgets": {},
       "aggData": [],
       "aggError": "",
       "aggOverflow": false,
       "aggSchema": [],
       "aggSeriesLimitReached": false,
       "aggType": "",
       "arguments": {},
       "columnCustomDisplayInfos": {},
       "data": [
        [
         101,
         "John",
         1,
         "Marketing"
        ],
        [
         102,
         "Lisa",
         2,
         "Sales"
        ],
        [
         103,
         "Paul",
         3,
         "Engineering"
        ],
        [
         104,
         "Evan",
         4,
         null
        ],
        [
         105,
         "Chloe",
         5,
         null
        ],
        [
         106,
         "Amy",
         6,
         null
        ]
       ],
       "datasetInfos": [],
       "dbfsResultPath": null,
       "isJsonSchema": true,
       "metadata": {
        "createTempViewForImplicitDf": true,
        "dataframeName": "_sqldf",
        "executionCount": 4
       },
       "overflow": false,
       "plotOptions": {
        "customPlotOptions": {},
        "displayType": "table",
        "pivotAggregation": null,
        "pivotColumns": null,
        "xColumns": null,
        "yColumns": null
       },
       "removedWidgets": [],
       "schema": [
        {
         "metadata": "{}",
         "name": "id",
         "type": "\"integer\""
        },
        {
         "metadata": "{}",
         "name": "name",
         "type": "\"string\""
        },
        {
         "metadata": "{}",
         "name": "deptno",
         "type": "\"integer\""
        },
        {
         "metadata": "{}",
         "name": "deptname",
         "type": "\"string\""
        }
       ],
       "type": "table"
      }
     },
     "output_type": "display_data"
    }
   ],
   "source": [
    "%sql\n",
    "SELECT \n",
    "  id, \n",
    "  name, \n",
    "  employee.deptno, \n",
    "  deptname\n",
    "FROM employee\n",
    "FULL JOIN department \n",
    "  ON employee.deptno = department.deptno;"
   ]
  },
  {
   "cell_type": "code",
   "execution_count": 0,
   "metadata": {
    "application/vnd.databricks.v1+cell": {
     "cellMetadata": {
      "byteLimit": 2048000,
      "implicitDf": true,
      "rowLimit": 10000
     },
     "inputWidgets": {},
     "nuid": "8952cec6-295c-4743-9d1b-08b34daa7129",
     "showTitle": false,
     "tableResultSettingsMap": {},
     "title": ""
    }
   },
   "outputs": [
    {
     "output_type": "display_data",
     "data": {
      "text/html": [
       "<style scoped>\n",
       "  .table-result-container {\n",
       "    max-height: 300px;\n",
       "    overflow: auto;\n",
       "  }\n",
       "  table, th, td {\n",
       "    border: 1px solid black;\n",
       "    border-collapse: collapse;\n",
       "  }\n",
       "  th, td {\n",
       "    padding: 5px;\n",
       "  }\n",
       "  th {\n",
       "    text-align: left;\n",
       "  }\n",
       "</style><div class='table-result-container'><table class='table-result'><thead style='background-color: white'><tr><th>id</th><th>name</th><th>deptno</th><th>deptname</th></tr></thead><tbody><tr><td>105</td><td>Chloe</td><td>5</td><td>Engineering</td></tr><tr><td>105</td><td>Chloe</td><td>5</td><td>Sales</td></tr><tr><td>105</td><td>Chloe</td><td>5</td><td>Marketing</td></tr><tr><td>103</td><td>Paul</td><td>3</td><td>Engineering</td></tr><tr><td>103</td><td>Paul</td><td>3</td><td>Sales</td></tr><tr><td>103</td><td>Paul</td><td>3</td><td>Marketing</td></tr><tr><td>101</td><td>John</td><td>1</td><td>Engineering</td></tr><tr><td>101</td><td>John</td><td>1</td><td>Sales</td></tr><tr><td>101</td><td>John</td><td>1</td><td>Marketing</td></tr><tr><td>102</td><td>Lisa</td><td>2</td><td>Engineering</td></tr><tr><td>102</td><td>Lisa</td><td>2</td><td>Sales</td></tr><tr><td>102</td><td>Lisa</td><td>2</td><td>Marketing</td></tr><tr><td>104</td><td>Evan</td><td>4</td><td>Engineering</td></tr><tr><td>104</td><td>Evan</td><td>4</td><td>Sales</td></tr><tr><td>104</td><td>Evan</td><td>4</td><td>Marketing</td></tr><tr><td>106</td><td>Amy</td><td>6</td><td>Engineering</td></tr><tr><td>106</td><td>Amy</td><td>6</td><td>Sales</td></tr><tr><td>106</td><td>Amy</td><td>6</td><td>Marketing</td></tr></tbody></table></div>"
      ]
     },
     "metadata": {
      "application/vnd.databricks.v1+output": {
       "addedWidgets": {},
       "aggData": [],
       "aggError": "",
       "aggOverflow": false,
       "aggSchema": [],
       "aggSeriesLimitReached": false,
       "aggType": "",
       "arguments": {},
       "columnCustomDisplayInfos": {},
       "data": [
        [
         105,
         "Chloe",
         5,
         "Engineering"
        ],
        [
         105,
         "Chloe",
         5,
         "Sales"
        ],
        [
         105,
         "Chloe",
         5,
         "Marketing"
        ],
        [
         103,
         "Paul",
         3,
         "Engineering"
        ],
        [
         103,
         "Paul",
         3,
         "Sales"
        ],
        [
         103,
         "Paul",
         3,
         "Marketing"
        ],
        [
         101,
         "John",
         1,
         "Engineering"
        ],
        [
         101,
         "John",
         1,
         "Sales"
        ],
        [
         101,
         "John",
         1,
         "Marketing"
        ],
        [
         102,
         "Lisa",
         2,
         "Engineering"
        ],
        [
         102,
         "Lisa",
         2,
         "Sales"
        ],
        [
         102,
         "Lisa",
         2,
         "Marketing"
        ],
        [
         104,
         "Evan",
         4,
         "Engineering"
        ],
        [
         104,
         "Evan",
         4,
         "Sales"
        ],
        [
         104,
         "Evan",
         4,
         "Marketing"
        ],
        [
         106,
         "Amy",
         6,
         "Engineering"
        ],
        [
         106,
         "Amy",
         6,
         "Sales"
        ],
        [
         106,
         "Amy",
         6,
         "Marketing"
        ]
       ],
       "datasetInfos": [],
       "dbfsResultPath": null,
       "isJsonSchema": true,
       "metadata": {
        "createTempViewForImplicitDf": true,
        "dataframeName": "_sqldf",
        "executionCount": 5
       },
       "overflow": false,
       "plotOptions": {
        "customPlotOptions": {},
        "displayType": "table",
        "pivotAggregation": null,
        "pivotColumns": null,
        "xColumns": null,
        "yColumns": null
       },
       "removedWidgets": [],
       "schema": [
        {
         "metadata": "{}",
         "name": "id",
         "type": "\"integer\""
        },
        {
         "metadata": "{}",
         "name": "name",
         "type": "\"string\""
        },
        {
         "metadata": "{}",
         "name": "deptno",
         "type": "\"integer\""
        },
        {
         "metadata": "{}",
         "name": "deptname",
         "type": "\"string\""
        }
       ],
       "type": "table"
      }
     },
     "output_type": "display_data"
    }
   ],
   "source": [
    "%sql\n",
    "SELECT \n",
    "  id, \n",
    "  name, \n",
    "  employee.deptno, \n",
    "  deptname\n",
    "FROM employee\n",
    "CROSS JOIN department;"
   ]
  },
  {
   "cell_type": "markdown",
   "metadata": {
    "application/vnd.databricks.v1+cell": {
     "cellMetadata": {},
     "inputWidgets": {},
     "nuid": "fd934583-a270-48d8-8094-9c3fc7216491",
     "showTitle": false,
     "tableResultSettingsMap": {},
     "title": ""
    }
   },
   "source": [
    "### SEMI JOIN\n",
    "Retorna valores do lado esquerdo da referência de tabela que tem uma correspondência com o direito. Também é chamado de left semi join.\n"
   ]
  },
  {
   "cell_type": "code",
   "execution_count": 0,
   "metadata": {
    "application/vnd.databricks.v1+cell": {
     "cellMetadata": {
      "byteLimit": 2048000,
      "implicitDf": true,
      "rowLimit": 10000
     },
     "inputWidgets": {},
     "nuid": "987afa3f-c11c-44e5-91d6-a1a29befb509",
     "showTitle": false,
     "tableResultSettingsMap": {},
     "title": ""
    }
   },
   "outputs": [
    {
     "output_type": "display_data",
     "data": {
      "text/html": [
       "<style scoped>\n",
       "  .table-result-container {\n",
       "    max-height: 300px;\n",
       "    overflow: auto;\n",
       "  }\n",
       "  table, th, td {\n",
       "    border: 1px solid black;\n",
       "    border-collapse: collapse;\n",
       "  }\n",
       "  th, td {\n",
       "    padding: 5px;\n",
       "  }\n",
       "  th {\n",
       "    text-align: left;\n",
       "  }\n",
       "</style><div class='table-result-container'><table class='table-result'><thead style='background-color: white'><tr><th>id</th><th>name</th><th>deptno</th></tr></thead><tbody><tr><td>103</td><td>Paul</td><td>3</td></tr><tr><td>101</td><td>John</td><td>1</td></tr><tr><td>102</td><td>Lisa</td><td>2</td></tr></tbody></table></div>"
      ]
     },
     "metadata": {
      "application/vnd.databricks.v1+output": {
       "addedWidgets": {},
       "aggData": [],
       "aggError": "",
       "aggOverflow": false,
       "aggSchema": [],
       "aggSeriesLimitReached": false,
       "aggType": "",
       "arguments": {},
       "columnCustomDisplayInfos": {},
       "data": [
        [
         103,
         "Paul",
         3
        ],
        [
         101,
         "John",
         1
        ],
        [
         102,
         "Lisa",
         2
        ]
       ],
       "datasetInfos": [],
       "dbfsResultPath": null,
       "isJsonSchema": true,
       "metadata": {
        "createTempViewForImplicitDf": true,
        "dataframeName": "_sqldf",
        "executionCount": 6
       },
       "overflow": false,
       "plotOptions": {
        "customPlotOptions": {},
        "displayType": "table",
        "pivotAggregation": null,
        "pivotColumns": null,
        "xColumns": null,
        "yColumns": null
       },
       "removedWidgets": [],
       "schema": [
        {
         "metadata": "{}",
         "name": "id",
         "type": "\"integer\""
        },
        {
         "metadata": "{}",
         "name": "name",
         "type": "\"string\""
        },
        {
         "metadata": "{}",
         "name": "deptno",
         "type": "\"integer\""
        }
       ],
       "type": "table"
      }
     },
     "output_type": "display_data"
    }
   ],
   "source": [
    "%sql\n",
    "SELECT *\n",
    "FROM employee\n",
    "SEMI JOIN department \n",
    "  ON employee.deptno = department.deptno;"
   ]
  },
  {
   "cell_type": "markdown",
   "metadata": {
    "application/vnd.databricks.v1+cell": {
     "cellMetadata": {},
     "inputWidgets": {},
     "nuid": "e626cd30-03b9-4105-98aa-45299dc0a6e7",
     "showTitle": false,
     "tableResultSettingsMap": {},
     "title": ""
    }
   },
   "source": [
    "### ANTI JOIN\n",
    "Retorna os valores da referência de tabela esquerda que não têm correspondência com a referência de tabela direita. Também é chamado de anti join esquerdo."
   ]
  },
  {
   "cell_type": "code",
   "execution_count": 0,
   "metadata": {
    "application/vnd.databricks.v1+cell": {
     "cellMetadata": {
      "byteLimit": 2048000,
      "implicitDf": true,
      "rowLimit": 10000
     },
     "inputWidgets": {},
     "nuid": "52ea78c0-8476-47ee-bd73-7bef1523c1ef",
     "showTitle": false,
     "tableResultSettingsMap": {},
     "title": ""
    }
   },
   "outputs": [
    {
     "output_type": "display_data",
     "data": {
      "text/html": [
       "<style scoped>\n",
       "  .table-result-container {\n",
       "    max-height: 300px;\n",
       "    overflow: auto;\n",
       "  }\n",
       "  table, th, td {\n",
       "    border: 1px solid black;\n",
       "    border-collapse: collapse;\n",
       "  }\n",
       "  th, td {\n",
       "    padding: 5px;\n",
       "  }\n",
       "  th {\n",
       "    text-align: left;\n",
       "  }\n",
       "</style><div class='table-result-container'><table class='table-result'><thead style='background-color: white'><tr><th>id</th><th>name</th><th>deptno</th></tr></thead><tbody><tr><td>105</td><td>Chloe</td><td>5</td></tr><tr><td>104</td><td>Evan</td><td>4</td></tr><tr><td>106</td><td>Amy</td><td>6</td></tr></tbody></table></div>"
      ]
     },
     "metadata": {
      "application/vnd.databricks.v1+output": {
       "addedWidgets": {},
       "aggData": [],
       "aggError": "",
       "aggOverflow": false,
       "aggSchema": [],
       "aggSeriesLimitReached": false,
       "aggType": "",
       "arguments": {},
       "columnCustomDisplayInfos": {},
       "data": [
        [
         105,
         "Chloe",
         5
        ],
        [
         104,
         "Evan",
         4
        ],
        [
         106,
         "Amy",
         6
        ]
       ],
       "datasetInfos": [],
       "dbfsResultPath": null,
       "isJsonSchema": true,
       "metadata": {
        "createTempViewForImplicitDf": true,
        "dataframeName": "_sqldf",
        "executionCount": 7
       },
       "overflow": false,
       "plotOptions": {
        "customPlotOptions": {},
        "displayType": "table",
        "pivotAggregation": null,
        "pivotColumns": null,
        "xColumns": null,
        "yColumns": null
       },
       "removedWidgets": [],
       "schema": [
        {
         "metadata": "{}",
         "name": "id",
         "type": "\"integer\""
        },
        {
         "metadata": "{}",
         "name": "name",
         "type": "\"string\""
        },
        {
         "metadata": "{}",
         "name": "deptno",
         "type": "\"integer\""
        }
       ],
       "type": "table"
      }
     },
     "output_type": "display_data"
    }
   ],
   "source": [
    "%sql\n",
    "SELECT *\n",
    "FROM employee\n",
    "ANTI JOIN department \n",
    "  ON employee.deptno = department.deptno;"
   ]
  },
  {
   "cell_type": "markdown",
   "metadata": {
    "application/vnd.databricks.v1+cell": {
     "cellMetadata": {},
     "inputWidgets": {},
     "nuid": "dc9ada30-866b-4066-9ac0-cbf88ce57d20",
     "showTitle": false,
     "tableResultSettingsMap": {},
     "title": ""
    }
   },
   "source": [
    "### NATURAL JOIN\n",
    "Quando você especifica USING ou NATURAL, SELECT * mostrará apenas uma ocorrência para cada uma das colunas usadas para corresponder primeiro, seguido pelas colunas das tabelas de junção esquerda e direita, excluindo as colunas unidas."
   ]
  },
  {
   "cell_type": "code",
   "execution_count": 0,
   "metadata": {
    "application/vnd.databricks.v1+cell": {
     "cellMetadata": {
      "byteLimit": 2048000,
      "implicitDf": true,
      "rowLimit": 10000
     },
     "inputWidgets": {},
     "nuid": "62c0a193-2ebe-467a-b9d3-0b03fe3c3296",
     "showTitle": false,
     "tableResultSettingsMap": {},
     "title": ""
    }
   },
   "outputs": [
    {
     "output_type": "display_data",
     "data": {
      "text/html": [
       "<style scoped>\n",
       "  .table-result-container {\n",
       "    max-height: 300px;\n",
       "    overflow: auto;\n",
       "  }\n",
       "  table, th, td {\n",
       "    border: 1px solid black;\n",
       "    border-collapse: collapse;\n",
       "  }\n",
       "  th, td {\n",
       "    padding: 5px;\n",
       "  }\n",
       "  th {\n",
       "    text-align: left;\n",
       "  }\n",
       "</style><div class='table-result-container'><table class='table-result'><thead style='background-color: white'><tr><th>deptno</th><th>id</th><th>name</th><th>deptname</th></tr></thead><tbody><tr><td>3</td><td>103</td><td>Paul</td><td>Engineering</td></tr><tr><td>1</td><td>101</td><td>John</td><td>Marketing</td></tr><tr><td>2</td><td>102</td><td>Lisa</td><td>Sales</td></tr></tbody></table></div>"
      ]
     },
     "metadata": {
      "application/vnd.databricks.v1+output": {
       "addedWidgets": {},
       "aggData": [],
       "aggError": "",
       "aggOverflow": false,
       "aggSchema": [],
       "aggSeriesLimitReached": false,
       "aggType": "",
       "arguments": {},
       "columnCustomDisplayInfos": {},
       "data": [
        [
         3,
         103,
         "Paul",
         "Engineering"
        ],
        [
         1,
         101,
         "John",
         "Marketing"
        ],
        [
         2,
         102,
         "Lisa",
         "Sales"
        ]
       ],
       "datasetInfos": [],
       "dbfsResultPath": null,
       "isJsonSchema": true,
       "metadata": {
        "createTempViewForImplicitDf": true,
        "dataframeName": "_sqldf",
        "executionCount": 8
       },
       "overflow": false,
       "plotOptions": {
        "customPlotOptions": {},
        "displayType": "table",
        "pivotAggregation": null,
        "pivotColumns": null,
        "xColumns": null,
        "yColumns": null
       },
       "removedWidgets": [],
       "schema": [
        {
         "metadata": "{}",
         "name": "deptno",
         "type": "\"integer\""
        },
        {
         "metadata": "{}",
         "name": "id",
         "type": "\"integer\""
        },
        {
         "metadata": "{}",
         "name": "name",
         "type": "\"string\""
        },
        {
         "metadata": "{}",
         "name": "deptname",
         "type": "\"string\""
        }
       ],
       "type": "table"
      }
     },
     "output_type": "display_data"
    }
   ],
   "source": [
    "%sql\n",
    "SELECT *\n",
    "FROM employee\n",
    "JOIN department USING (deptno)"
   ]
  },
  {
   "cell_type": "markdown",
   "metadata": {
    "application/vnd.databricks.v1+cell": {
     "cellMetadata": {},
     "inputWidgets": {},
     "nuid": "db62fe61-a5d6-4924-9a82-9960196170fe",
     "showTitle": false,
     "tableResultSettingsMap": {},
     "title": ""
    }
   },
   "source": [
    "NOTA: Em todos os exemplos que utilizamos a cláusula ON para igualar valores de uma coluna de mesmo nome em ambas as tabelas, você poderá substituir pela cláusula USING conforme exemplo acima"
   ]
  },
  {
   "cell_type": "code",
   "execution_count": 0,
   "metadata": {
    "application/vnd.databricks.v1+cell": {
     "cellMetadata": {
      "byteLimit": 2048000,
      "implicitDf": true,
      "rowLimit": 10000
     },
     "inputWidgets": {},
     "nuid": "34f8dbc9-d605-4407-8b4a-f652cd51a646",
     "showTitle": false,
     "tableResultSettingsMap": {},
     "title": ""
    }
   },
   "outputs": [
    {
     "output_type": "display_data",
     "data": {
      "text/html": [
       "<style scoped>\n",
       "  .table-result-container {\n",
       "    max-height: 300px;\n",
       "    overflow: auto;\n",
       "  }\n",
       "  table, th, td {\n",
       "    border: 1px solid black;\n",
       "    border-collapse: collapse;\n",
       "  }\n",
       "  th, td {\n",
       "    padding: 5px;\n",
       "  }\n",
       "  th {\n",
       "    text-align: left;\n",
       "  }\n",
       "</style><div class='table-result-container'><table class='table-result'><thead style='background-color: white'><tr><th>id</th><th>name</th><th>deptno</th><th>deptno</th><th>deptname</th></tr></thead><tbody><tr><td>105</td><td>Chloe</td><td>5</td><td>3</td><td>Engineering</td></tr><tr><td>105</td><td>Chloe</td><td>5</td><td>2</td><td>Sales</td></tr><tr><td>105</td><td>Chloe</td><td>5</td><td>1</td><td>Marketing</td></tr><tr><td>103</td><td>Paul</td><td>3</td><td>3</td><td>Engineering</td></tr><tr><td>103</td><td>Paul</td><td>3</td><td>2</td><td>Sales</td></tr><tr><td>103</td><td>Paul</td><td>3</td><td>1</td><td>Marketing</td></tr><tr><td>101</td><td>John</td><td>1</td><td>3</td><td>Engineering</td></tr><tr><td>101</td><td>John</td><td>1</td><td>2</td><td>Sales</td></tr><tr><td>101</td><td>John</td><td>1</td><td>1</td><td>Marketing</td></tr><tr><td>102</td><td>Lisa</td><td>2</td><td>3</td><td>Engineering</td></tr><tr><td>102</td><td>Lisa</td><td>2</td><td>2</td><td>Sales</td></tr><tr><td>102</td><td>Lisa</td><td>2</td><td>1</td><td>Marketing</td></tr><tr><td>104</td><td>Evan</td><td>4</td><td>3</td><td>Engineering</td></tr><tr><td>104</td><td>Evan</td><td>4</td><td>2</td><td>Sales</td></tr><tr><td>104</td><td>Evan</td><td>4</td><td>1</td><td>Marketing</td></tr><tr><td>106</td><td>Amy</td><td>6</td><td>3</td><td>Engineering</td></tr><tr><td>106</td><td>Amy</td><td>6</td><td>2</td><td>Sales</td></tr><tr><td>106</td><td>Amy</td><td>6</td><td>1</td><td>Marketing</td></tr></tbody></table></div>"
      ]
     },
     "metadata": {
      "application/vnd.databricks.v1+output": {
       "addedWidgets": {},
       "aggData": [],
       "aggError": "",
       "aggOverflow": false,
       "aggSchema": [],
       "aggSeriesLimitReached": false,
       "aggType": "",
       "arguments": {},
       "columnCustomDisplayInfos": {},
       "data": [
        [
         105,
         "Chloe",
         5,
         3,
         "Engineering"
        ],
        [
         105,
         "Chloe",
         5,
         2,
         "Sales"
        ],
        [
         105,
         "Chloe",
         5,
         1,
         "Marketing"
        ],
        [
         103,
         "Paul",
         3,
         3,
         "Engineering"
        ],
        [
         103,
         "Paul",
         3,
         2,
         "Sales"
        ],
        [
         103,
         "Paul",
         3,
         1,
         "Marketing"
        ],
        [
         101,
         "John",
         1,
         3,
         "Engineering"
        ],
        [
         101,
         "John",
         1,
         2,
         "Sales"
        ],
        [
         101,
         "John",
         1,
         1,
         "Marketing"
        ],
        [
         102,
         "Lisa",
         2,
         3,
         "Engineering"
        ],
        [
         102,
         "Lisa",
         2,
         2,
         "Sales"
        ],
        [
         102,
         "Lisa",
         2,
         1,
         "Marketing"
        ],
        [
         104,
         "Evan",
         4,
         3,
         "Engineering"
        ],
        [
         104,
         "Evan",
         4,
         2,
         "Sales"
        ],
        [
         104,
         "Evan",
         4,
         1,
         "Marketing"
        ],
        [
         106,
         "Amy",
         6,
         3,
         "Engineering"
        ],
        [
         106,
         "Amy",
         6,
         2,
         "Sales"
        ],
        [
         106,
         "Amy",
         6,
         1,
         "Marketing"
        ]
       ],
       "datasetInfos": [],
       "dbfsResultPath": null,
       "isJsonSchema": true,
       "metadata": {
        "createTempViewForImplicitDf": true,
        "dataframeName": "_sqldf",
        "executionCount": 9
       },
       "overflow": false,
       "plotOptions": {
        "customPlotOptions": {},
        "displayType": "table",
        "pivotAggregation": null,
        "pivotColumns": null,
        "xColumns": null,
        "yColumns": null
       },
       "removedWidgets": [],
       "schema": [
        {
         "metadata": "{}",
         "name": "id",
         "type": "\"integer\""
        },
        {
         "metadata": "{}",
         "name": "name",
         "type": "\"string\""
        },
        {
         "metadata": "{}",
         "name": "deptno",
         "type": "\"integer\""
        },
        {
         "metadata": "{}",
         "name": "deptno",
         "type": "\"integer\""
        },
        {
         "metadata": "{}",
         "name": "deptname",
         "type": "\"string\""
        }
       ],
       "type": "table"
      }
     },
     "output_type": "display_data"
    }
   ],
   "source": [
    "%sql\n",
    "SELECT *\n",
    "FROM employee\n",
    "JOIN department "
   ]
  },
  {
   "cell_type": "code",
   "execution_count": 0,
   "metadata": {
    "application/vnd.databricks.v1+cell": {
     "cellMetadata": {
      "byteLimit": 2048000,
      "implicitDf": true,
      "rowLimit": 10000
     },
     "inputWidgets": {},
     "nuid": "e711fc15-42a1-437b-a1d2-875994e1a5c6",
     "showTitle": false,
     "tableResultSettingsMap": {},
     "title": ""
    }
   },
   "outputs": [
    {
     "output_type": "display_data",
     "data": {
      "text/html": [
       "<style scoped>\n",
       "  .table-result-container {\n",
       "    max-height: 300px;\n",
       "    overflow: auto;\n",
       "  }\n",
       "  table, th, td {\n",
       "    border: 1px solid black;\n",
       "    border-collapse: collapse;\n",
       "  }\n",
       "  th, td {\n",
       "    padding: 5px;\n",
       "  }\n",
       "  th {\n",
       "    text-align: left;\n",
       "  }\n",
       "</style><div class='table-result-container'><table class='table-result'><thead style='background-color: white'><tr><th>id</th><th>name</th><th>deptno</th><th>deptname</th></tr></thead><tbody><tr><td>105</td><td>Chloe</td><td>5</td><td>null</td></tr><tr><td>103</td><td>Paul</td><td>3</td><td>Engineering</td></tr><tr><td>101</td><td>John</td><td>1</td><td>Marketing</td></tr><tr><td>102</td><td>Lisa</td><td>2</td><td>Sales</td></tr><tr><td>104</td><td>Evan</td><td>4</td><td>null</td></tr><tr><td>106</td><td>Amy</td><td>6</td><td>null</td></tr></tbody></table></div>"
      ]
     },
     "metadata": {
      "application/vnd.databricks.v1+output": {
       "addedWidgets": {},
       "aggData": [],
       "aggError": "",
       "aggOverflow": false,
       "aggSchema": [],
       "aggSeriesLimitReached": false,
       "aggType": "",
       "arguments": {},
       "columnCustomDisplayInfos": {},
       "data": [
        [
         105,
         "Chloe",
         5,
         null
        ],
        [
         103,
         "Paul",
         3,
         "Engineering"
        ],
        [
         101,
         "John",
         1,
         "Marketing"
        ],
        [
         102,
         "Lisa",
         2,
         "Sales"
        ],
        [
         104,
         "Evan",
         4,
         null
        ],
        [
         106,
         "Amy",
         6,
         null
        ]
       ],
       "datasetInfos": [],
       "dbfsResultPath": null,
       "isJsonSchema": true,
       "metadata": {
        "createTempViewForImplicitDf": true,
        "dataframeName": "_sqldf",
        "executionCount": 10
       },
       "overflow": false,
       "plotOptions": {
        "customPlotOptions": {},
        "displayType": "table",
        "pivotAggregation": null,
        "pivotColumns": null,
        "xColumns": null,
        "yColumns": null
       },
       "removedWidgets": [],
       "schema": [
        {
         "metadata": "{}",
         "name": "id",
         "type": "\"integer\""
        },
        {
         "metadata": "{}",
         "name": "name",
         "type": "\"string\""
        },
        {
         "metadata": "{}",
         "name": "deptno",
         "type": "\"integer\""
        },
        {
         "metadata": "{}",
         "name": "deptname",
         "type": "\"string\""
        }
       ],
       "type": "table"
      }
     },
     "output_type": "display_data"
    }
   ],
   "source": [
    "%sql\n",
    "SELECT \n",
    "  id, \n",
    "  name, \n",
    "  deptno, \n",
    "  deptname\n",
    "FROM employee\n",
    "LEFT JOIN LATERAL (\n",
    "  SELECT deptname\n",
    "  FROM department\n",
    "  WHERE employee.deptno = department.deptno\n",
    ");"
   ]
  },
  {
   "cell_type": "markdown",
   "metadata": {
    "application/vnd.databricks.v1+cell": {
     "cellMetadata": {},
     "inputWidgets": {},
     "nuid": "860ef2d0-c4d8-42b2-bed4-d65e2f071d3f",
     "showTitle": false,
     "tableResultSettingsMap": {},
     "title": ""
    }
   },
   "source": [
    "Se desejar aprofundar sobre LATERAL JOIN, veja esse artigo: [Lateral Join — Um exemplo prático](https://medium.com/gbtech/lateral-join-um-exemplo-prático-16ab1db548ca)\n",
    "\n",
    "Veja a documentação do Databricks sobre Junções: [JOIN](https://docs.databricks.com/aws/en/sql/language-manual/sql-ref-syntax-qry-select-join)"
   ]
  },
  {
   "cell_type": "code",
   "execution_count": 0,
   "metadata": {
    "application/vnd.databricks.v1+cell": {
     "cellMetadata": {},
     "inputWidgets": {},
     "nuid": "949a4d1e-969c-495e-a438-45c57453dc5e",
     "showTitle": false,
     "tableResultSettingsMap": {},
     "title": ""
    }
   },
   "outputs": [],
   "source": []
  }
 ],
 "metadata": {
  "application/vnd.databricks.v1+notebook": {
   "computePreferences": null,
   "dashboards": [],
   "environmentMetadata": {
    "base_environment": "",
    "environment_version": "1"
   },
   "inputWidgetPreferences": null,
   "language": "python",
   "notebookMetadata": {
    "mostRecentlyExecutedCommandWithImplicitDF": {
     "commandId": 1520975687738264,
     "dataframes": [
      "_sqldf"
     ]
    },
    "pythonIndentUnit": 4
   },
   "notebookName": "Operacoes_de_Juncao_JOIN",
   "widgets": {}
  }
 },
 "nbformat": 4,
 "nbformat_minor": 0
}